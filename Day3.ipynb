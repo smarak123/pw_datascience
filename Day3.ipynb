{
 "cells": [
  {
   "cell_type": "code",
   "execution_count": 1,
   "id": "fbdb095d-3c0c-49ef-99aa-d8c89f027ce9",
   "metadata": {},
   "outputs": [
    {
     "data": {
      "text/plain": [
       "False"
      ]
     },
     "execution_count": 1,
     "metadata": {},
     "output_type": "execute_result"
    }
   ],
   "source": [
    "not int(bool(1))"
   ]
  },
  {
   "cell_type": "code",
   "execution_count": 2,
   "id": "162a76ec-2d01-4233-a290-82058b292fb5",
   "metadata": {},
   "outputs": [
    {
     "data": {
      "text/plain": [
       "0"
      ]
     },
     "execution_count": 2,
     "metadata": {},
     "output_type": "execute_result"
    }
   ],
   "source": [
    "True * False\n"
   ]
  },
  {
   "cell_type": "code",
   "execution_count": 3,
   "id": "7fff9039-8513-4093-a383-4d1f07b991e1",
   "metadata": {},
   "outputs": [
    {
     "data": {
      "text/plain": [
       "True"
      ]
     },
     "execution_count": 3,
     "metadata": {},
     "output_type": "execute_result"
    }
   ],
   "source": [
    "not(False) * True"
   ]
  },
  {
   "cell_type": "code",
   "execution_count": 8,
   "id": "259c3c24-979c-4767-a38d-d64a27535071",
   "metadata": {},
   "outputs": [
    {
     "name": "stdout",
     "output_type": "stream",
     "text": [
      "140614416427840 140614416422208\n",
      "False\n",
      "True\n",
      "True\n"
     ]
    }
   ],
   "source": [
    "lst_a = [1,2,3,4]\n",
    "lst_b = [1,2,3,4]\n",
    "print(id(lst_a),id(lst_b))\n",
    "print(lst_a is lst_b)\n",
    "print(lst_a is not lst_b)\n",
    "print(lst_a == lst_b)"
   ]
  },
  {
   "cell_type": "code",
   "execution_count": 9,
   "id": "2e9379ff-eab1-4586-80be-97cbe3a273e1",
   "metadata": {},
   "outputs": [
    {
     "name": "stdout",
     "output_type": "stream",
     "text": [
      "140614765134096 140614765134096\n"
     ]
    }
   ],
   "source": [
    "a = 2\n",
    "b = 2\n",
    "print(id(a),id(b))\n",
    "# When we use list(collection of objects id's are different otherwise same)"
   ]
  },
  {
   "cell_type": "markdown",
   "id": "c563b297-fedd-4dd8-bae5-5e7daca35852",
   "metadata": {},
   "source": [
    "## Strings are immutable"
   ]
  },
  {
   "cell_type": "markdown",
   "id": "134d20a9-6ec2-48d8-85c3-d1717bb50cd5",
   "metadata": {},
   "source": [
    "str = \"Smarak\"\n",
    "str[0] = \"A\" //Not Allowed"
   ]
  },
  {
   "cell_type": "code",
   "execution_count": 11,
   "id": "10d81c0b-98a5-411a-8514-7cf24dadce45",
   "metadata": {},
   "outputs": [
    {
     "name": "stdout",
     "output_type": "stream",
     "text": [
      "2.5 2\n"
     ]
    }
   ],
   "source": [
    "a=5\n",
    "b=2\n",
    "print(a/b,a//b)"
   ]
  },
  {
   "cell_type": "code",
   "execution_count": 12,
   "id": "3133fd61-2d23-4d28-a0f1-e7c8559d5698",
   "metadata": {},
   "outputs": [
    {
     "data": {
      "text/plain": [
       "'0b1010'"
      ]
     },
     "execution_count": 12,
     "metadata": {},
     "output_type": "execute_result"
    }
   ],
   "source": [
    "var=10\n",
    "bin(var)"
   ]
  },
  {
   "cell_type": "code",
   "execution_count": 25,
   "id": "41c1e393-4d3b-4678-9cde-571ff631dfe5",
   "metadata": {},
   "outputs": [
    {
     "name": "stdout",
     "output_type": "stream",
     "text": [
      "k Dey\n",
      "k \n",
      "y\n",
      "Dey\n",
      "Smarak De\n",
      "Smarak Dey\n",
      "yeD karamS\n",
      "yDkrm\n"
     ]
    }
   ],
   "source": [
    "str = \"Smarak Dey\"\n",
    "#slice\n",
    "print(str[5:])\n",
    "print(str[5:7])\n",
    "print(str[-1])\n",
    "print(str[-3:])\n",
    "print(str[:-1])\n",
    "print(str[:])\n",
    "print(str[::-1])\n",
    "print(str[::-2])"
   ]
  },
  {
   "cell_type": "code",
   "execution_count": 28,
   "id": "487478b1-1514-4751-b093-e0f0952b7ece",
   "metadata": {},
   "outputs": [
    {
     "name": "stdout",
     "output_type": "stream",
     "text": [
      "Science\n",
      "ecneicS\n"
     ]
    }
   ],
   "source": [
    "course = \"Data Science Masters\"\n",
    "print(course[5:12])\n",
    "print(course[11:4:-1])"
   ]
  },
  {
   "cell_type": "code",
   "execution_count": 29,
   "id": "dd47787d-252e-43e0-8e5e-f6b85e716ca2",
   "metadata": {},
   "outputs": [
    {
     "data": {
      "text/plain": [
       "'Data Science MastersData Science MastersData Science MastersData Science MastersData Science Masters'"
      ]
     },
     "execution_count": 29,
     "metadata": {},
     "output_type": "execute_result"
    }
   ],
   "source": [
    "course * 5"
   ]
  },
  {
   "cell_type": "code",
   "execution_count": 30,
   "id": "05eac668-9166-4c21-a61d-6c7c9059d696",
   "metadata": {},
   "outputs": [
    {
     "name": "stdout",
     "output_type": "stream",
     "text": [
      "20\n"
     ]
    }
   ],
   "source": [
    "print(len(course))"
   ]
  },
  {
   "cell_type": "code",
   "execution_count": 31,
   "id": "453cd908-25e3-4541-bd68-1fef56e26061",
   "metadata": {},
   "outputs": [
    {
     "data": {
      "text/plain": [
       "9"
      ]
     },
     "execution_count": 31,
     "metadata": {},
     "output_type": "execute_result"
    }
   ],
   "source": [
    "course.find(\"n\")"
   ]
  },
  {
   "cell_type": "code",
   "execution_count": 33,
   "id": "2299faaa-b56a-4a9d-ab70-da463febf69d",
   "metadata": {},
   "outputs": [
    {
     "name": "stdout",
     "output_type": "stream",
     "text": [
      "3\n"
     ]
    }
   ],
   "source": [
    "print(course.find(\"a\",2,6))"
   ]
  },
  {
   "cell_type": "code",
   "execution_count": 34,
   "id": "d1e66249-f150-4a68-bf0b-d74b1d222d8d",
   "metadata": {},
   "outputs": [
    {
     "data": {
      "text/plain": [
       "3"
      ]
     },
     "execution_count": 34,
     "metadata": {},
     "output_type": "execute_result"
    }
   ],
   "source": [
    "course.count('a')"
   ]
  },
  {
   "cell_type": "code",
   "execution_count": 35,
   "id": "30e5fd47-edcc-42c2-9cb1-a150c16aa885",
   "metadata": {},
   "outputs": [
    {
     "data": {
      "text/plain": [
       "21"
      ]
     },
     "execution_count": 35,
     "metadata": {},
     "output_type": "execute_result"
    }
   ],
   "source": [
    "course.count('')"
   ]
  },
  {
   "cell_type": "code",
   "execution_count": 36,
   "id": "db7752db-7544-4840-9227-49ef67617b98",
   "metadata": {},
   "outputs": [
    {
     "name": "stdout",
     "output_type": "stream",
     "text": [
      "['Data', 'Science', 'Masters']\n"
     ]
    }
   ],
   "source": [
    "# split\n",
    "print(course.split(\" \"))"
   ]
  },
  {
   "cell_type": "code",
   "execution_count": 37,
   "id": "39f3ea8c-cee1-4f31-aa1f-773a50fe606b",
   "metadata": {},
   "outputs": [
    {
     "data": {
      "text/plain": [
       "('Data', ' ', 'Science Masters')"
      ]
     },
     "execution_count": 37,
     "metadata": {},
     "output_type": "execute_result"
    }
   ],
   "source": [
    "course.partition(' ')"
   ]
  },
  {
   "cell_type": "code",
   "execution_count": 38,
   "id": "5147b62c-aca2-40ee-971a-7956a7983980",
   "metadata": {},
   "outputs": [
    {
     "name": "stdout",
     "output_type": "stream",
     "text": [
      "Data Science Masters\n"
     ]
    }
   ],
   "source": [
    "print(course)"
   ]
  },
  {
   "cell_type": "markdown",
   "id": "a46c1dd2-8f87-4f48-8cf1-dcb11657eafa",
   "metadata": {},
   "source": [
    "Split does it for every character where as partition does it for the first character"
   ]
  },
  {
   "cell_type": "code",
   "execution_count": 39,
   "id": "86097226-492c-4627-b102-7b4dac0435e3",
   "metadata": {},
   "outputs": [
    {
     "data": {
      "text/plain": [
       "'dATA sCIENCE mASTERS'"
      ]
     },
     "execution_count": 39,
     "metadata": {},
     "output_type": "execute_result"
    }
   ],
   "source": [
    "course.swapcase()"
   ]
  },
  {
   "cell_type": "code",
   "execution_count": 41,
   "id": "f6788f37-864d-4c1c-9314-4f1fcb5d8727",
   "metadata": {},
   "outputs": [
    {
     "data": {
      "text/plain": [
       "'Data Science Masters'"
      ]
     },
     "execution_count": 41,
     "metadata": {},
     "output_type": "execute_result"
    }
   ],
   "source": [
    "course.title()\n",
    "# title() - capitalises first letter of every word"
   ]
  },
  {
   "cell_type": "code",
   "execution_count": null,
   "id": "fa1cdcc0-d220-4f22-8864-0d311f8ccd34",
   "metadata": {},
   "outputs": [],
   "source": []
  }
 ],
 "metadata": {
  "kernelspec": {
   "display_name": "Python 3 (ipykernel)",
   "language": "python",
   "name": "python3"
  },
  "language_info": {
   "codemirror_mode": {
    "name": "ipython",
    "version": 3
   },
   "file_extension": ".py",
   "mimetype": "text/x-python",
   "name": "python",
   "nbconvert_exporter": "python",
   "pygments_lexer": "ipython3",
   "version": "3.10.8"
  }
 },
 "nbformat": 4,
 "nbformat_minor": 5
}
