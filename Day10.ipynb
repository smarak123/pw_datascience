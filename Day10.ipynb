{
 "cells": [
  {
   "cell_type": "markdown",
   "id": "edfe55ae-4b8c-499f-b8a9-723cb96d665d",
   "metadata": {},
   "source": [
    "## Decorators"
   ]
  },
  {
   "cell_type": "code",
   "execution_count": 4,
   "id": "1a5df4e8-f875-4f52-9fbc-88e03edcac5c",
   "metadata": {},
   "outputs": [],
   "source": [
    "def deco(func):\n",
    "    def inner_deco():\n",
    "        print(\"This is start of my function\")\n",
    "        func()\n",
    "        print(\"This is the end of my function\")\n",
    "    return inner_deco    "
   ]
  },
  {
   "cell_type": "code",
   "execution_count": 5,
   "id": "7a9d2645-1fd2-4d7e-89a5-2a4d61fbe787",
   "metadata": {},
   "outputs": [],
   "source": [
    "@deco\n",
    "def test():\n",
    "    print(9)\n"
   ]
  },
  {
   "cell_type": "code",
   "execution_count": 6,
   "id": "8c0b0ef0-251f-4058-851b-360951a213bc",
   "metadata": {},
   "outputs": [
    {
     "name": "stdout",
     "output_type": "stream",
     "text": [
      "This is start of my function\n",
      "9\n",
      "This is the end of my function\n"
     ]
    }
   ],
   "source": [
    "test()"
   ]
  },
  {
   "cell_type": "code",
   "execution_count": 10,
   "id": "073bcb83-4905-4552-ae60-e2bb01f0d823",
   "metadata": {},
   "outputs": [],
   "source": [
    "import time\n",
    "def timer(func):\n",
    "    def inner_timer():\n",
    "        start = time.time()\n",
    "        func()\n",
    "        end = time.time()\n",
    "        print(end-start)\n",
    "    return inner_timer\n"
   ]
  },
  {
   "cell_type": "code",
   "execution_count": 13,
   "id": "38df5f57-d3e1-42fa-bb2d-bcbc36bb1f0d",
   "metadata": {},
   "outputs": [
    {
     "name": "stdout",
     "output_type": "stream",
     "text": [
      "138\n",
      "5.1021575927734375e-05\n"
     ]
    }
   ],
   "source": [
    "@timer\n",
    "def test1():\n",
    "    print(69+69)\n",
    "test1()"
   ]
  },
  {
   "cell_type": "code",
   "execution_count": 16,
   "id": "8003bb57-62cf-47c3-85d6-2feff1d62191",
   "metadata": {},
   "outputs": [],
   "source": [
    "@timer\n",
    "def test2():\n",
    "    for i in range(100000000):\n",
    "        pass"
   ]
  },
  {
   "cell_type": "code",
   "execution_count": 17,
   "id": "9be3336d-f833-4931-a0ee-019864f9b6f0",
   "metadata": {},
   "outputs": [
    {
     "name": "stdout",
     "output_type": "stream",
     "text": [
      "2.6591427326202393\n"
     ]
    }
   ],
   "source": [
    "test2()"
   ]
  },
  {
   "cell_type": "markdown",
   "id": "d2641704-4451-4e4e-a7ec-ed22d99cf09a",
   "metadata": {},
   "source": [
    "## Class method"
   ]
  },
  {
   "cell_type": "code",
   "execution_count": 30,
   "id": "86438121-3542-4301-a567-416ea68ddcce",
   "metadata": {},
   "outputs": [],
   "source": [
    "class pwskills:\n",
    "    def __init__(self,name ,email):\n",
    "        self.name = name\n",
    "        self.email = email\n",
    "    \n",
    "    @classmethod\n",
    "    def details(self,name,email):\n",
    "        return self(name,email)\n",
    "    \n",
    "    def display(self):\n",
    "        print(self.name,self.email)"
   ]
  },
  {
   "cell_type": "code",
   "execution_count": 32,
   "id": "3f2f2a3c-8e6a-41ae-96e8-fff318a879f2",
   "metadata": {},
   "outputs": [],
   "source": [
    "pw1 = pwskills.details(\"rup\",\"rup@gmail.com\")"
   ]
  },
  {
   "cell_type": "code",
   "execution_count": 33,
   "id": "2318ef1d-c7fa-4060-a723-1d6297a91dd4",
   "metadata": {},
   "outputs": [
    {
     "data": {
      "text/plain": [
       "'rup'"
      ]
     },
     "execution_count": 33,
     "metadata": {},
     "output_type": "execute_result"
    }
   ],
   "source": [
    "pw1.name"
   ]
  },
  {
   "cell_type": "code",
   "execution_count": 34,
   "id": "86ea308b-a98b-4992-9160-77721286cd73",
   "metadata": {},
   "outputs": [
    {
     "name": "stdout",
     "output_type": "stream",
     "text": [
      "rup rup@gmail.com\n"
     ]
    }
   ],
   "source": [
    "pw1.display()"
   ]
  },
  {
   "cell_type": "code",
   "execution_count": 43,
   "id": "154da1f4-c861-4836-99b3-4fc44dc796b4",
   "metadata": {},
   "outputs": [],
   "source": [
    "class pwskills2:\n",
    "    num = 6785745\n",
    "    \n",
    "    def __init__(self,name ,email):\n",
    "        self.name = name\n",
    "        self.email = email\n",
    "    \n",
    "    @classmethod\n",
    "    def change_no(self,no):\n",
    "        self.num=no\n",
    "        \n",
    "    @classmethod\n",
    "    def details(self,name,email):\n",
    "        return self(name,email)\n",
    "    \n",
    "    def display(self):\n",
    "        print(self.name,self.email,pwskills2.num)"
   ]
  },
  {
   "cell_type": "code",
   "execution_count": 36,
   "id": "4708117b-6b36-480b-9831-f612b9b6ae23",
   "metadata": {},
   "outputs": [
    {
     "data": {
      "text/plain": [
       "6785745"
      ]
     },
     "execution_count": 36,
     "metadata": {},
     "output_type": "execute_result"
    }
   ],
   "source": [
    "pwskills2.num"
   ]
  },
  {
   "cell_type": "code",
   "execution_count": 37,
   "id": "b5d109fb-8313-4f16-bca9-7597b25b5bf4",
   "metadata": {},
   "outputs": [],
   "source": [
    "pwskills2.num = 776"
   ]
  },
  {
   "cell_type": "code",
   "execution_count": 38,
   "id": "c4f714cd-f9ca-4409-ac08-6636427abbb4",
   "metadata": {},
   "outputs": [
    {
     "data": {
      "text/plain": [
       "776"
      ]
     },
     "execution_count": 38,
     "metadata": {},
     "output_type": "execute_result"
    }
   ],
   "source": [
    "pwskills2.num"
   ]
  },
  {
   "cell_type": "code",
   "execution_count": 39,
   "id": "9151d341-0b03-4d41-a179-5a39d43e6a14",
   "metadata": {},
   "outputs": [],
   "source": [
    "pwskills2.num = 6785745"
   ]
  },
  {
   "cell_type": "code",
   "execution_count": 40,
   "id": "15f26dc4-874c-4857-ba73-9754b98d22b2",
   "metadata": {},
   "outputs": [
    {
     "data": {
      "text/plain": [
       "6785745"
      ]
     },
     "execution_count": 40,
     "metadata": {},
     "output_type": "execute_result"
    }
   ],
   "source": [
    "pwskills2.num"
   ]
  },
  {
   "cell_type": "code",
   "execution_count": 47,
   "id": "0ef20e6e-8cde-40d3-a960-d4d7896cf001",
   "metadata": {},
   "outputs": [],
   "source": [
    "pw = pwskills2.details(\"hg\",\"hgfyt@kjnk.com\")"
   ]
  },
  {
   "cell_type": "code",
   "execution_count": 48,
   "id": "a44a534d-862f-4422-9248-31b861a3d9d7",
   "metadata": {},
   "outputs": [],
   "source": [
    "pw.change_no(676)"
   ]
  },
  {
   "cell_type": "code",
   "execution_count": 49,
   "id": "6d045943-de6d-4063-b6b9-e4926e9c46f6",
   "metadata": {},
   "outputs": [
    {
     "data": {
      "text/plain": [
       "676"
      ]
     },
     "execution_count": 49,
     "metadata": {},
     "output_type": "execute_result"
    }
   ],
   "source": [
    "pw.num"
   ]
  },
  {
   "cell_type": "markdown",
   "id": "a83239de-e66f-419b-980d-bfc8751f1aa6",
   "metadata": {},
   "source": [
    "## class methods and class variables are accessed by objects and classes - They help in overloading init methods"
   ]
  },
  {
   "cell_type": "markdown",
   "id": "57a62cdd-0558-48fd-a1a1-c33d56a46108",
   "metadata": {},
   "source": [
    "## To add an external method inside a class"
   ]
  },
  {
   "cell_type": "code",
   "execution_count": 52,
   "id": "bbcea55a-2df7-4cf5-abab-a492608ced6d",
   "metadata": {},
   "outputs": [],
   "source": [
    "class pwskills3:\n",
    "    num = 6785745\n",
    "    \n",
    "    def __init__(self,name ,email):\n",
    "        self.name = name\n",
    "        self.email = email\n",
    "    \n",
    "    @classmethod\n",
    "    def change_no(self,no):\n",
    "        self.num=no\n",
    "        \n",
    "    @classmethod\n",
    "    def details(self,name,email):\n",
    "        return self(name,email)\n",
    "    \n",
    "    def display(self):\n",
    "        print(self.name,self.email,pwskills2.num)"
   ]
  },
  {
   "cell_type": "code",
   "execution_count": 53,
   "id": "b74e0143-1b9e-4c84-a004-4abfbb2424f0",
   "metadata": {},
   "outputs": [],
   "source": [
    "def course_details(self,c_name):\n",
    "    print(f\"course-name = {c_name}\")"
   ]
  },
  {
   "cell_type": "code",
   "execution_count": 54,
   "id": "c2d978e4-dba4-4b4c-be50-0bbaf8da38c1",
   "metadata": {},
   "outputs": [],
   "source": [
    "pwskills3.course_details = classmethod(course_details)"
   ]
  },
  {
   "cell_type": "code",
   "execution_count": 55,
   "id": "c1edee44-6a9a-489e-b591-bb9e15d5be8a",
   "metadata": {},
   "outputs": [
    {
     "name": "stdout",
     "output_type": "stream",
     "text": [
      "course-name = IT\n"
     ]
    }
   ],
   "source": [
    "pwskills3.course_details(\"IT\")"
   ]
  },
  {
   "cell_type": "code",
   "execution_count": 57,
   "id": "c281fc3d-2116-4dda-9209-adcec11397ca",
   "metadata": {},
   "outputs": [],
   "source": [
    "del pwskills3.num"
   ]
  },
  {
   "cell_type": "code",
   "execution_count": 58,
   "id": "f06d7a65-1d7b-4c84-b474-8b46acc36ce8",
   "metadata": {},
   "outputs": [],
   "source": [
    "delattr(pwskills3,\"display\")"
   ]
  },
  {
   "cell_type": "code",
   "execution_count": 59,
   "id": "04263691-e9f6-436c-a2e7-9f7854250ca0",
   "metadata": {},
   "outputs": [],
   "source": [
    "del pwskills3.course_details"
   ]
  },
  {
   "cell_type": "markdown",
   "id": "1af9a2ce-cefa-429f-8e8b-870da3e32568",
   "metadata": {},
   "source": [
    "## static methods"
   ]
  },
  {
   "cell_type": "code",
   "execution_count": 62,
   "id": "883f0a5b-9f35-4376-a6eb-3afa3d7b85db",
   "metadata": {},
   "outputs": [],
   "source": [
    "class test:\n",
    "    @staticmethod\n",
    "    def mentor(list):\n",
    "        print(list)\n",
    "    "
   ]
  },
  {
   "cell_type": "code",
   "execution_count": 63,
   "id": "b6d3c782-eb8e-4816-97eb-c7d85cec3bc2",
   "metadata": {},
   "outputs": [
    {
     "name": "stdout",
     "output_type": "stream",
     "text": [
      "[6, 8, 'jk']\n"
     ]
    }
   ],
   "source": [
    "test.mentor([6,8,\"jk\"])"
   ]
  },
  {
   "cell_type": "code",
   "execution_count": 64,
   "id": "5a3d6b96-5224-47be-ada5-c9ea7a91335e",
   "metadata": {},
   "outputs": [
    {
     "name": "stdout",
     "output_type": "stream",
     "text": [
      "[9, 0, 'sd']\n"
     ]
    }
   ],
   "source": [
    "ob = test()\n",
    "ob.mentor([9,0,\"sd\"])"
   ]
  },
  {
   "cell_type": "markdown",
   "id": "de3f536d-7185-4cc0-982b-117d97c518a6",
   "metadata": {},
   "source": [
    "## Static methods can be accessed from instance methods, class methods as well as other static methods using class_name.method_name"
   ]
  },
  {
   "cell_type": "markdown",
   "id": "51b59cb1-1adf-4389-8f9e-70a6fdba01c9",
   "metadata": {},
   "source": [
    "### class pwskills5:\n",
    "    num = 6785745\n",
    "    \n",
    "    def __init__(self,name ,email):\n",
    "        self.name = name\n",
    "        self.email = email\n",
    "        \n",
    "    @staticmethod\n",
    "    def func():\n",
    "        self.name  ------ NOT ALLOWED"
   ]
  },
  {
   "cell_type": "markdown",
   "id": "7caeefa0-726b-444d-b4b0-54e1f8ff8385",
   "metadata": {},
   "source": [
    "## Property decorators"
   ]
  },
  {
   "cell_type": "code",
   "execution_count": 117,
   "id": "174cc7d2-14ff-41d4-a2cc-cc5729f0ca9a",
   "metadata": {},
   "outputs": [],
   "source": [
    "class test6:\n",
    "    def __init__(self,name):\n",
    "        self.__cname = name\n",
    "    \n",
    "    @property\n",
    "    def cname_access(self):\n",
    "        return self.__cname \n",
    "    @cname_access.setter\n",
    "    def cname_set(self,n):\n",
    "        self.__cname = n\n",
    "    @cname_access.deleter\n",
    "    def cname_del(self):\n",
    "        del self.__cname"
   ]
  },
  {
   "cell_type": "code",
   "execution_count": 118,
   "id": "1a9c43d6-9b70-43ee-a18c-f9c2fa243265",
   "metadata": {},
   "outputs": [],
   "source": [
    "ob = test6(\"fhfhhg\")"
   ]
  },
  {
   "cell_type": "code",
   "execution_count": 119,
   "id": "1a8ed4b8-0ae0-46f9-a57c-42c00c32c51b",
   "metadata": {},
   "outputs": [
    {
     "data": {
      "text/plain": [
       "'fhfhhg'"
      ]
     },
     "execution_count": 119,
     "metadata": {},
     "output_type": "execute_result"
    }
   ],
   "source": [
    "ob.cname_access"
   ]
  },
  {
   "cell_type": "code",
   "execution_count": 120,
   "id": "c4f30513-128b-40a0-bb5d-9b396f053fb4",
   "metadata": {},
   "outputs": [],
   "source": [
    "ob.cname_set = \"gvghv\""
   ]
  },
  {
   "cell_type": "code",
   "execution_count": 121,
   "id": "6b48a2fc-d7a9-4e5c-8d53-6d9e5b33c5ee",
   "metadata": {},
   "outputs": [
    {
     "data": {
      "text/plain": [
       "'gvghv'"
      ]
     },
     "execution_count": 121,
     "metadata": {},
     "output_type": "execute_result"
    }
   ],
   "source": [
    "ob.cname_access"
   ]
  },
  {
   "cell_type": "code",
   "execution_count": 122,
   "id": "dc3065f2-ce01-434f-a7d4-981cb24bb5ff",
   "metadata": {},
   "outputs": [
    {
     "data": {
      "text/plain": [
       "'gvghv'"
      ]
     },
     "execution_count": 122,
     "metadata": {},
     "output_type": "execute_result"
    }
   ],
   "source": [
    "ob.cname_del"
   ]
  },
  {
   "cell_type": "code",
   "execution_count": 123,
   "id": "2a0542c5-2efa-415d-981c-d667eb511e5d",
   "metadata": {},
   "outputs": [
    {
     "data": {
      "text/plain": [
       "'gvghv'"
      ]
     },
     "execution_count": 123,
     "metadata": {},
     "output_type": "execute_result"
    }
   ],
   "source": [
    "ob.cname_access"
   ]
  },
  {
   "cell_type": "code",
   "execution_count": 124,
   "id": "bdcad8f9-bc99-47f8-b02f-eb77401a6c53",
   "metadata": {},
   "outputs": [],
   "source": [
    "del ob.cname_del"
   ]
  },
  {
   "cell_type": "code",
   "execution_count": 125,
   "id": "c415398a-b21b-4fe0-90ad-125388ccbe5e",
   "metadata": {},
   "outputs": [
    {
     "ename": "AttributeError",
     "evalue": "'test6' object has no attribute '_test6__cname'",
     "output_type": "error",
     "traceback": [
      "\u001b[0;31m---------------------------------------------------------------------------\u001b[0m",
      "\u001b[0;31mAttributeError\u001b[0m                            Traceback (most recent call last)",
      "Cell \u001b[0;32mIn[125], line 1\u001b[0m\n\u001b[0;32m----> 1\u001b[0m \u001b[43mob\u001b[49m\u001b[38;5;241;43m.\u001b[39;49m\u001b[43mcname_access\u001b[49m\n",
      "Cell \u001b[0;32mIn[117], line 7\u001b[0m, in \u001b[0;36mtest6.cname_access\u001b[0;34m(self)\u001b[0m\n\u001b[1;32m      5\u001b[0m \u001b[38;5;129m@property\u001b[39m\n\u001b[1;32m      6\u001b[0m \u001b[38;5;28;01mdef\u001b[39;00m \u001b[38;5;21mcname_access\u001b[39m(\u001b[38;5;28mself\u001b[39m):\n\u001b[0;32m----> 7\u001b[0m     \u001b[38;5;28;01mreturn\u001b[39;00m \u001b[38;5;28;43mself\u001b[39;49m\u001b[38;5;241;43m.\u001b[39;49m\u001b[43m__cname\u001b[49m\n",
      "\u001b[0;31mAttributeError\u001b[0m: 'test6' object has no attribute '_test6__cname'"
     ]
    }
   ],
   "source": [
    "ob.cname_access"
   ]
  },
  {
   "cell_type": "markdown",
   "id": "f1942f2e-0052-4f4c-afaa-b5339a43b3a3",
   "metadata": {},
   "source": [
    "## Special(Magic or dunder methods)"
   ]
  },
  {
   "cell_type": "code",
   "execution_count": 126,
   "id": "419a889a-a46a-43fd-b233-7f845accfcb2",
   "metadata": {},
   "outputs": [
    {
     "data": {
      "text/plain": [
       "['__abs__',\n",
       " '__add__',\n",
       " '__and__',\n",
       " '__bool__',\n",
       " '__ceil__',\n",
       " '__class__',\n",
       " '__delattr__',\n",
       " '__dir__',\n",
       " '__divmod__',\n",
       " '__doc__',\n",
       " '__eq__',\n",
       " '__float__',\n",
       " '__floor__',\n",
       " '__floordiv__',\n",
       " '__format__',\n",
       " '__ge__',\n",
       " '__getattribute__',\n",
       " '__getnewargs__',\n",
       " '__gt__',\n",
       " '__hash__',\n",
       " '__index__',\n",
       " '__init__',\n",
       " '__init_subclass__',\n",
       " '__int__',\n",
       " '__invert__',\n",
       " '__le__',\n",
       " '__lshift__',\n",
       " '__lt__',\n",
       " '__mod__',\n",
       " '__mul__',\n",
       " '__ne__',\n",
       " '__neg__',\n",
       " '__new__',\n",
       " '__or__',\n",
       " '__pos__',\n",
       " '__pow__',\n",
       " '__radd__',\n",
       " '__rand__',\n",
       " '__rdivmod__',\n",
       " '__reduce__',\n",
       " '__reduce_ex__',\n",
       " '__repr__',\n",
       " '__rfloordiv__',\n",
       " '__rlshift__',\n",
       " '__rmod__',\n",
       " '__rmul__',\n",
       " '__ror__',\n",
       " '__round__',\n",
       " '__rpow__',\n",
       " '__rrshift__',\n",
       " '__rshift__',\n",
       " '__rsub__',\n",
       " '__rtruediv__',\n",
       " '__rxor__',\n",
       " '__setattr__',\n",
       " '__sizeof__',\n",
       " '__str__',\n",
       " '__sub__',\n",
       " '__subclasshook__',\n",
       " '__truediv__',\n",
       " '__trunc__',\n",
       " '__xor__',\n",
       " 'as_integer_ratio',\n",
       " 'bit_count',\n",
       " 'bit_length',\n",
       " 'conjugate',\n",
       " 'denominator',\n",
       " 'from_bytes',\n",
       " 'imag',\n",
       " 'numerator',\n",
       " 'real',\n",
       " 'to_bytes']"
      ]
     },
     "execution_count": 126,
     "metadata": {},
     "output_type": "execute_result"
    }
   ],
   "source": [
    "dir(int)"
   ]
  },
  {
   "cell_type": "code",
   "execution_count": 129,
   "id": "da2a258b-5f2b-4a8d-8818-4767c5fa9605",
   "metadata": {},
   "outputs": [
    {
     "data": {
      "text/plain": [
       "15"
      ]
     },
     "execution_count": 129,
     "metadata": {},
     "output_type": "execute_result"
    }
   ],
   "source": [
    "a=9\n",
    "a.__add__(6)"
   ]
  },
  {
   "cell_type": "code",
   "execution_count": 130,
   "id": "149ae74e-3fe8-4245-a943-7c5e4dba95a2",
   "metadata": {},
   "outputs": [
    {
     "data": {
      "text/plain": [
       "['__add__',\n",
       " '__class__',\n",
       " '__contains__',\n",
       " '__delattr__',\n",
       " '__dir__',\n",
       " '__doc__',\n",
       " '__eq__',\n",
       " '__format__',\n",
       " '__ge__',\n",
       " '__getattribute__',\n",
       " '__getitem__',\n",
       " '__getnewargs__',\n",
       " '__gt__',\n",
       " '__hash__',\n",
       " '__init__',\n",
       " '__init_subclass__',\n",
       " '__iter__',\n",
       " '__le__',\n",
       " '__len__',\n",
       " '__lt__',\n",
       " '__mod__',\n",
       " '__mul__',\n",
       " '__ne__',\n",
       " '__new__',\n",
       " '__reduce__',\n",
       " '__reduce_ex__',\n",
       " '__repr__',\n",
       " '__rmod__',\n",
       " '__rmul__',\n",
       " '__setattr__',\n",
       " '__sizeof__',\n",
       " '__str__',\n",
       " '__subclasshook__',\n",
       " 'capitalize',\n",
       " 'casefold',\n",
       " 'center',\n",
       " 'count',\n",
       " 'encode',\n",
       " 'endswith',\n",
       " 'expandtabs',\n",
       " 'find',\n",
       " 'format',\n",
       " 'format_map',\n",
       " 'index',\n",
       " 'isalnum',\n",
       " 'isalpha',\n",
       " 'isascii',\n",
       " 'isdecimal',\n",
       " 'isdigit',\n",
       " 'isidentifier',\n",
       " 'islower',\n",
       " 'isnumeric',\n",
       " 'isprintable',\n",
       " 'isspace',\n",
       " 'istitle',\n",
       " 'isupper',\n",
       " 'join',\n",
       " 'ljust',\n",
       " 'lower',\n",
       " 'lstrip',\n",
       " 'maketrans',\n",
       " 'partition',\n",
       " 'removeprefix',\n",
       " 'removesuffix',\n",
       " 'replace',\n",
       " 'rfind',\n",
       " 'rindex',\n",
       " 'rjust',\n",
       " 'rpartition',\n",
       " 'rsplit',\n",
       " 'rstrip',\n",
       " 'split',\n",
       " 'splitlines',\n",
       " 'startswith',\n",
       " 'strip',\n",
       " 'swapcase',\n",
       " 'title',\n",
       " 'translate',\n",
       " 'upper',\n",
       " 'zfill']"
      ]
     },
     "execution_count": 130,
     "metadata": {},
     "output_type": "execute_result"
    }
   ],
   "source": [
    "dir(str)"
   ]
  },
  {
   "cell_type": "markdown",
   "id": "05a529ea-7ad2-4b5a-95fb-9898b533bf90",
   "metadata": {},
   "source": [
    "## __new__ is the magic method for new"
   ]
  },
  {
   "cell_type": "code",
   "execution_count": 148,
   "id": "c9496deb-68e7-446a-9f4b-149eb886bbe1",
   "metadata": {},
   "outputs": [
    {
     "name": "stdout",
     "output_type": "stream",
     "text": [
      "9\n"
     ]
    }
   ],
   "source": [
    "class g:\n",
    "    def __new__(g):\n",
    "        print(9)\n",
    "    \n",
    "i=g()"
   ]
  },
  {
   "cell_type": "code",
   "execution_count": 142,
   "id": "c234cafe-0bcf-4dfe-aee2-73d2e4669c09",
   "metadata": {},
   "outputs": [
    {
     "name": "stdout",
     "output_type": "stream",
     "text": [
      "9\n"
     ]
    }
   ],
   "source": [
    "b=g()"
   ]
  },
  {
   "cell_type": "code",
   "execution_count": 163,
   "id": "81bf05b0-2849-4350-af72-65aaa8882270",
   "metadata": {},
   "outputs": [],
   "source": [
    "class d:\n",
    "    def __str__(f):\n",
    "        return \"Object og d class\"\n",
    "j=d()"
   ]
  },
  {
   "cell_type": "code",
   "execution_count": 164,
   "id": "883f4e49-eb02-4f18-a220-9ca5b0923c4f",
   "metadata": {},
   "outputs": [
    {
     "name": "stdout",
     "output_type": "stream",
     "text": [
      "Object og d class\n"
     ]
    }
   ],
   "source": [
    "print(j)"
   ]
  },
  {
   "cell_type": "code",
   "execution_count": 165,
   "id": "1cbe2835-d759-460f-bd5a-1c58877af060",
   "metadata": {},
   "outputs": [
    {
     "data": {
      "text/plain": [
       "<__main__.d at 0x7eff551be080>"
      ]
     },
     "execution_count": 165,
     "metadata": {},
     "output_type": "execute_result"
    }
   ],
   "source": [
    "j"
   ]
  },
  {
   "cell_type": "code",
   "execution_count": 166,
   "id": "601c7ae7-125c-4785-9b1e-e71f8bd35b24",
   "metadata": {},
   "outputs": [
    {
     "data": {
      "text/plain": [
       "['__class__',\n",
       " '__class_getitem__',\n",
       " '__contains__',\n",
       " '__delattr__',\n",
       " '__delitem__',\n",
       " '__dir__',\n",
       " '__doc__',\n",
       " '__eq__',\n",
       " '__format__',\n",
       " '__ge__',\n",
       " '__getattribute__',\n",
       " '__getitem__',\n",
       " '__gt__',\n",
       " '__hash__',\n",
       " '__init__',\n",
       " '__init_subclass__',\n",
       " '__ior__',\n",
       " '__iter__',\n",
       " '__le__',\n",
       " '__len__',\n",
       " '__lt__',\n",
       " '__ne__',\n",
       " '__new__',\n",
       " '__or__',\n",
       " '__reduce__',\n",
       " '__reduce_ex__',\n",
       " '__repr__',\n",
       " '__reversed__',\n",
       " '__ror__',\n",
       " '__setattr__',\n",
       " '__setitem__',\n",
       " '__sizeof__',\n",
       " '__str__',\n",
       " '__subclasshook__',\n",
       " 'clear',\n",
       " 'copy',\n",
       " 'fromkeys',\n",
       " 'get',\n",
       " 'items',\n",
       " 'keys',\n",
       " 'pop',\n",
       " 'popitem',\n",
       " 'setdefault',\n",
       " 'update',\n",
       " 'values']"
      ]
     },
     "execution_count": 166,
     "metadata": {},
     "output_type": "execute_result"
    }
   ],
   "source": [
    "dir(dict)"
   ]
  },
  {
   "cell_type": "code",
   "execution_count": 167,
   "id": "5125f333-c557-42d7-826b-6b3f8355a494",
   "metadata": {},
   "outputs": [
    {
     "data": {
      "text/plain": [
       "['__add__',\n",
       " '__class__',\n",
       " '__class_getitem__',\n",
       " '__contains__',\n",
       " '__delattr__',\n",
       " '__dir__',\n",
       " '__doc__',\n",
       " '__eq__',\n",
       " '__format__',\n",
       " '__ge__',\n",
       " '__getattribute__',\n",
       " '__getitem__',\n",
       " '__getnewargs__',\n",
       " '__gt__',\n",
       " '__hash__',\n",
       " '__init__',\n",
       " '__init_subclass__',\n",
       " '__iter__',\n",
       " '__le__',\n",
       " '__len__',\n",
       " '__lt__',\n",
       " '__mul__',\n",
       " '__ne__',\n",
       " '__new__',\n",
       " '__reduce__',\n",
       " '__reduce_ex__',\n",
       " '__repr__',\n",
       " '__rmul__',\n",
       " '__setattr__',\n",
       " '__sizeof__',\n",
       " '__str__',\n",
       " '__subclasshook__',\n",
       " 'count',\n",
       " 'index']"
      ]
     },
     "execution_count": 167,
     "metadata": {},
     "output_type": "execute_result"
    }
   ],
   "source": [
    "dir(tuple)"
   ]
  },
  {
   "cell_type": "code",
   "execution_count": 168,
   "id": "944f8c6f-2efb-401f-b148-52af97aed554",
   "metadata": {},
   "outputs": [
    {
     "data": {
      "text/plain": [
       "['__add__',\n",
       " '__class__',\n",
       " '__class_getitem__',\n",
       " '__contains__',\n",
       " '__delattr__',\n",
       " '__delitem__',\n",
       " '__dir__',\n",
       " '__doc__',\n",
       " '__eq__',\n",
       " '__format__',\n",
       " '__ge__',\n",
       " '__getattribute__',\n",
       " '__getitem__',\n",
       " '__gt__',\n",
       " '__hash__',\n",
       " '__iadd__',\n",
       " '__imul__',\n",
       " '__init__',\n",
       " '__init_subclass__',\n",
       " '__iter__',\n",
       " '__le__',\n",
       " '__len__',\n",
       " '__lt__',\n",
       " '__mul__',\n",
       " '__ne__',\n",
       " '__new__',\n",
       " '__reduce__',\n",
       " '__reduce_ex__',\n",
       " '__repr__',\n",
       " '__reversed__',\n",
       " '__rmul__',\n",
       " '__setattr__',\n",
       " '__setitem__',\n",
       " '__sizeof__',\n",
       " '__str__',\n",
       " '__subclasshook__',\n",
       " 'append',\n",
       " 'clear',\n",
       " 'copy',\n",
       " 'count',\n",
       " 'extend',\n",
       " 'index',\n",
       " 'insert',\n",
       " 'pop',\n",
       " 'remove',\n",
       " 'reverse',\n",
       " 'sort']"
      ]
     },
     "execution_count": 168,
     "metadata": {},
     "output_type": "execute_result"
    }
   ],
   "source": [
    "dir(list)"
   ]
  },
  {
   "cell_type": "code",
   "execution_count": null,
   "id": "0fbaf8f0-c080-4ee7-a296-87056c7fa891",
   "metadata": {},
   "outputs": [],
   "source": []
  }
 ],
 "metadata": {
  "kernelspec": {
   "display_name": "Python 3 (ipykernel)",
   "language": "python",
   "name": "python3"
  },
  "language_info": {
   "codemirror_mode": {
    "name": "ipython",
    "version": 3
   },
   "file_extension": ".py",
   "mimetype": "text/x-python",
   "name": "python",
   "nbconvert_exporter": "python",
   "pygments_lexer": "ipython3",
   "version": "3.10.8"
  }
 },
 "nbformat": 4,
 "nbformat_minor": 5
}
