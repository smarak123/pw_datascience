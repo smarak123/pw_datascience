{
 "cells": [
  {
   "cell_type": "markdown",
   "id": "50f232bd-cc29-4cd8-9dd7-72e50fcebbe1",
   "metadata": {},
   "source": [
    "## Tuple"
   ]
  },
  {
   "cell_type": "markdown",
   "id": "ba9352f0-a6d4-4d76-9308-e9b168fa4477",
   "metadata": {},
   "source": [
    "## Tuples are immutable only difference from list"
   ]
  },
  {
   "cell_type": "code",
   "execution_count": 1,
   "id": "2d8e1d86-9520-4bb1-b4b3-43b3dbe978df",
   "metadata": {},
   "outputs": [
    {
     "data": {
      "text/plain": [
       "0"
      ]
     },
     "execution_count": 1,
     "metadata": {},
     "output_type": "execute_result"
    }
   ],
   "source": [
    "t = (1,4,6,7.8,\"hm\",True)\n",
    "t.count(0)"
   ]
  },
  {
   "cell_type": "code",
   "execution_count": 3,
   "id": "1f9b673b-6d8c-4172-9d78-ff89e6f66fa5",
   "metadata": {},
   "outputs": [
    {
     "data": {
      "text/plain": [
       "tuple"
      ]
     },
     "execution_count": 3,
     "metadata": {},
     "output_type": "execute_result"
    }
   ],
   "source": [
    "type(t)"
   ]
  },
  {
   "cell_type": "code",
   "execution_count": 7,
   "id": "b0cfb405-5ae0-4429-9ce5-05a07b89a52f",
   "metadata": {},
   "outputs": [
    {
     "data": {
      "text/plain": [
       "4"
      ]
     },
     "execution_count": 7,
     "metadata": {},
     "output_type": "execute_result"
    }
   ],
   "source": [
    "t.index(\"hm\")"
   ]
  },
  {
   "cell_type": "code",
   "execution_count": 8,
   "id": "dc904327-f951-4aba-8e84-bb5ce57e9969",
   "metadata": {},
   "outputs": [
    {
     "data": {
      "text/plain": [
       "(True, 'hm', 7.8, 6, 4, 1)"
      ]
     },
     "execution_count": 8,
     "metadata": {},
     "output_type": "execute_result"
    }
   ],
   "source": [
    "t = t[::-1]\n",
    "t"
   ]
  },
  {
   "cell_type": "code",
   "execution_count": 9,
   "id": "69082c41-6d96-4ddc-9b39-703acf558d8b",
   "metadata": {},
   "outputs": [
    {
     "data": {
      "text/plain": [
       "0"
      ]
     },
     "execution_count": 9,
     "metadata": {},
     "output_type": "execute_result"
    }
   ],
   "source": [
    "t.index(1)"
   ]
  },
  {
   "cell_type": "code",
   "execution_count": 10,
   "id": "59a32d25-85d4-4f85-8460-5eb58f7907db",
   "metadata": {},
   "outputs": [
    {
     "data": {
      "text/plain": [
       "2"
      ]
     },
     "execution_count": 10,
     "metadata": {},
     "output_type": "execute_result"
    }
   ],
   "source": [
    "t.count(True)"
   ]
  },
  {
   "cell_type": "code",
   "execution_count": 12,
   "id": "1bbb84d9-01c6-4757-8ef3-f6ab9a1a4029",
   "metadata": {},
   "outputs": [
    {
     "name": "stdout",
     "output_type": "stream",
     "text": [
      "True\n",
      "hm\n",
      "7.8\n",
      "6\n",
      "4\n",
      "1\n"
     ]
    }
   ],
   "source": [
    "for i in t:\n",
    "    print(i)"
   ]
  },
  {
   "cell_type": "code",
   "execution_count": 13,
   "id": "8bfde778-6ec7-4099-b037-ccb5415c6b8b",
   "metadata": {},
   "outputs": [
    {
     "data": {
      "text/plain": [
       "((True, 'hm', 7.8, 6, 4, 1), (3, 4, 5, 6, 7))"
      ]
     },
     "execution_count": 13,
     "metadata": {},
     "output_type": "execute_result"
    }
   ],
   "source": [
    "t1= (3,4,5,6,7)\n",
    "t2=(t,t1)\n",
    "t2"
   ]
  },
  {
   "cell_type": "code",
   "execution_count": 14,
   "id": "e05ff8e5-a8df-4ecb-8a2f-a78478f382a9",
   "metadata": {},
   "outputs": [
    {
     "data": {
      "text/plain": [
       "2"
      ]
     },
     "execution_count": 14,
     "metadata": {},
     "output_type": "execute_result"
    }
   ],
   "source": [
    "len(t2)"
   ]
  },
  {
   "cell_type": "code",
   "execution_count": 17,
   "id": "f7b4be81-74ee-49d3-80cd-e446277e11fc",
   "metadata": {},
   "outputs": [
    {
     "data": {
      "text/plain": [
       "(((True, 'hm', 7.8, 6, 4, 1), (3, 4, 5, 6, 7)), [7.9, 'ghghv', 8])"
      ]
     },
     "execution_count": 17,
     "metadata": {},
     "output_type": "execute_result"
    }
   ],
   "source": [
    "t3 = (t2,[7.9,\"ghghv\",8])\n",
    "t3"
   ]
  },
  {
   "cell_type": "markdown",
   "id": "16fd59e0-42a8-4f87-81bd-9af459b6f7bd",
   "metadata": {},
   "source": [
    "## SET"
   ]
  },
  {
   "cell_type": "code",
   "execution_count": 19,
   "id": "4b724bb9-1631-46c5-9290-605eed01b00f",
   "metadata": {},
   "outputs": [
    {
     "data": {
      "text/plain": [
       "dict"
      ]
     },
     "execution_count": 19,
     "metadata": {},
     "output_type": "execute_result"
    }
   ],
   "source": [
    "s={}\n",
    "type(s)"
   ]
  },
  {
   "cell_type": "code",
   "execution_count": 24,
   "id": "b6362bd5-36b6-456a-a00b-6c12df96c66c",
   "metadata": {},
   "outputs": [
    {
     "data": {
      "text/plain": [
       "set"
      ]
     },
     "execution_count": 24,
     "metadata": {},
     "output_type": "execute_result"
    }
   ],
   "source": [
    "s1={1,2,3,5}\n",
    "type(s1)"
   ]
  },
  {
   "cell_type": "markdown",
   "id": "16a62aac-1c4d-443e-a915-81eac0a95e32",
   "metadata": {},
   "source": [
    "## unique collection of data"
   ]
  },
  {
   "cell_type": "code",
   "execution_count": 22,
   "id": "28df113d-cdb4-45a5-92dd-796b77f45bc0",
   "metadata": {},
   "outputs": [
    {
     "data": {
      "text/plain": [
       "{1, 3, 4, 6, 7}"
      ]
     },
     "execution_count": 22,
     "metadata": {},
     "output_type": "execute_result"
    }
   ],
   "source": [
    "s = {1,1,1,1,3,3,3,4,6,6,7}\n",
    "s"
   ]
  },
  {
   "cell_type": "code",
   "execution_count": 23,
   "id": "fdd2f038-748a-4f41-b588-c729a461113d",
   "metadata": {},
   "outputs": [
    {
     "data": {
      "text/plain": [
       "[1, 3, 4, 6, 7]"
      ]
     },
     "execution_count": 23,
     "metadata": {},
     "output_type": "execute_result"
    }
   ],
   "source": [
    "list(s)"
   ]
  },
  {
   "cell_type": "code",
   "execution_count": 27,
   "id": "6ec68e78-889e-4a96-9dc5-fa8263a2ad7a",
   "metadata": {},
   "outputs": [
    {
     "data": {
      "text/plain": [
       "(1, 2, 3, 5)"
      ]
     },
     "execution_count": 27,
     "metadata": {},
     "output_type": "execute_result"
    }
   ],
   "source": [
    "tuple(s1)"
   ]
  },
  {
   "cell_type": "markdown",
   "id": "df5ed50b-c33d-49a7-9f03-8cc341059da5",
   "metadata": {},
   "source": [
    "## {5,8,[4,7,8]} - Not allowed since lists are mutable\n",
    "## {8,8,(8,0,9)} - allowed since tuples are immutable"
   ]
  },
  {
   "cell_type": "code",
   "execution_count": 28,
   "id": "6724c996-9d69-4f0d-bb39-f054e3102b66",
   "metadata": {},
   "outputs": [
    {
     "data": {
      "text/plain": [
       "{(1, 2, 3), 1, 2, 3}"
      ]
     },
     "execution_count": 28,
     "metadata": {},
     "output_type": "execute_result"
    }
   ],
   "source": [
    "s1 ={1,2,3,(1,2,3)}\n",
    "s1"
   ]
  },
  {
   "cell_type": "markdown",
   "id": "2a69ec3d-9fd8-474f-b03d-f224a9dd1c4f",
   "metadata": {},
   "source": [
    "## index based operations are not allowed in set since it is unordered collection of elements"
   ]
  },
  {
   "cell_type": "code",
   "execution_count": 34,
   "id": "bd6a617c-cd4f-4462-bec7-6f016219a06a",
   "metadata": {},
   "outputs": [
    {
     "name": "stdout",
     "output_type": "stream",
     "text": [
      "Rup\n",
      "2\n",
      "4\n",
      "6\n",
      "rup\n"
     ]
    }
   ],
   "source": [
    "s3 = {2,4,6,\"Rup\",\"rup\"}\n",
    "for i in s3:\n",
    "    print(i)"
   ]
  },
  {
   "cell_type": "code",
   "execution_count": 35,
   "id": "22b415eb-5164-4b16-8cca-590a5d551518",
   "metadata": {},
   "outputs": [
    {
     "data": {
      "text/plain": [
       "{2, 4, 6, 7, 'Rup', 'rup'}"
      ]
     },
     "execution_count": 35,
     "metadata": {},
     "output_type": "execute_result"
    }
   ],
   "source": [
    "s3.add(7)\n",
    "s3"
   ]
  },
  {
   "cell_type": "code",
   "execution_count": 36,
   "id": "50c60964-0deb-4138-a24c-132b7d53f0d1",
   "metadata": {},
   "outputs": [
    {
     "data": {
      "text/plain": [
       "{2, 4, 6, 7, 'Rup', 'rup'}"
      ]
     },
     "execution_count": 36,
     "metadata": {},
     "output_type": "execute_result"
    }
   ],
   "source": [
    "s3.add(2)\n",
    "s3"
   ]
  },
  {
   "cell_type": "code",
   "execution_count": 37,
   "id": "cede4de9-1431-4c32-bf03-1d23e0d6e346",
   "metadata": {},
   "outputs": [
    {
     "data": {
      "text/plain": [
       "6"
      ]
     },
     "execution_count": 37,
     "metadata": {},
     "output_type": "execute_result"
    }
   ],
   "source": [
    "len(s3)"
   ]
  },
  {
   "cell_type": "code",
   "execution_count": 40,
   "id": "13cadee1-13e8-41b8-b505-8f63e7923990",
   "metadata": {},
   "outputs": [
    {
     "data": {
      "text/plain": [
       "{6, 7, 'rup'}"
      ]
     },
     "execution_count": 40,
     "metadata": {},
     "output_type": "execute_result"
    }
   ],
   "source": [
    "s3.pop()\n",
    "s3\n",
    "# removes an arbitrary element"
   ]
  },
  {
   "cell_type": "code",
   "execution_count": 42,
   "id": "f61eb094-0b36-4102-8681-30598c9ec84f",
   "metadata": {},
   "outputs": [
    {
     "data": {
      "text/plain": [
       "{(1, 2, 3), 1, 2, 3}"
      ]
     },
     "execution_count": 42,
     "metadata": {},
     "output_type": "execute_result"
    }
   ],
   "source": [
    "s1.difference(s3)"
   ]
  },
  {
   "cell_type": "markdown",
   "id": "17bd53ec-f6f0-425f-acff-13b037c43d34",
   "metadata": {},
   "source": [
    "## Dictionaries"
   ]
  },
  {
   "cell_type": "code",
   "execution_count": 43,
   "id": "d888f9ec-4345-42f2-a6eb-82d84f5ab068",
   "metadata": {},
   "outputs": [
    {
     "data": {
      "text/plain": [
       "dict"
      ]
     },
     "execution_count": 43,
     "metadata": {},
     "output_type": "execute_result"
    }
   ],
   "source": [
    "d ={\"name\":\"rup\",\"email\":\"s@gmail.com\",\"no\":876756}\n",
    "type(d)"
   ]
  },
  {
   "cell_type": "code",
   "execution_count": 44,
   "id": "ad026db6-f805-490e-9094-7c45b3484886",
   "metadata": {},
   "outputs": [
    {
     "data": {
      "text/plain": [
       "{'name': 'rup', 'email': 's@gmail.com', 'no': 876756}"
      ]
     },
     "execution_count": 44,
     "metadata": {},
     "output_type": "execute_result"
    }
   ],
   "source": [
    "d"
   ]
  },
  {
   "cell_type": "markdown",
   "id": "f5d16698-464d-4520-a317-0ed9b678bcd2",
   "metadata": {},
   "source": [
    "## Key - value pairs, key has to be unique"
   ]
  },
  {
   "cell_type": "code",
   "execution_count": 45,
   "id": "cbffe580-dc8d-41b4-8b37-70a842834226",
   "metadata": {},
   "outputs": [
    {
     "data": {
      "text/plain": [
       "{78: 'kj', 9.0: 'bjh', True: 89}"
      ]
     },
     "execution_count": 45,
     "metadata": {},
     "output_type": "execute_result"
    }
   ],
   "source": [
    "d1 ={78:\"kj\",9.0:\"bjh\",True:89}\n",
    "d1"
   ]
  },
  {
   "cell_type": "markdown",
   "id": "d09797d4-867f-478a-a86e-aedd03ae9d18",
   "metadata": {},
   "source": [
    "## List cant be keys but tuples can be keys"
   ]
  },
  {
   "cell_type": "code",
   "execution_count": 47,
   "id": "27549877-cc80-441b-903a-8cc17de0304d",
   "metadata": {},
   "outputs": [
    {
     "data": {
      "text/plain": [
       "{(1, 2, 3): 'abc'}"
      ]
     },
     "execution_count": 47,
     "metadata": {},
     "output_type": "execute_result"
    }
   ],
   "source": [
    "{(1,2,3):\"abc\"}"
   ]
  },
  {
   "cell_type": "markdown",
   "id": "cee3d1f9-4623-47b1-aac7-529f594231cd",
   "metadata": {},
   "source": [
    "## Keys and sets cant be keys"
   ]
  },
  {
   "cell_type": "code",
   "execution_count": 48,
   "id": "e3fafff0-f68e-49f5-9460-0b1683aa98cb",
   "metadata": {},
   "outputs": [
    {
     "data": {
      "text/plain": [
       "{'course': ['DS', 'Java', 'DSA']}"
      ]
     },
     "execution_count": 48,
     "metadata": {},
     "output_type": "execute_result"
    }
   ],
   "source": [
    "{\"course\":[\"DS\",\"Java\",\"DSA\"]}"
   ]
  },
  {
   "cell_type": "markdown",
   "id": "c333d834-f7cc-4a3a-bbff-baab9e65100e",
   "metadata": {},
   "source": [
    "## values can be set,tuples and list"
   ]
  },
  {
   "cell_type": "markdown",
   "id": "42c30c91-bd84-4b5d-8a92-52c0c99e6c2a",
   "metadata": {},
   "source": [
    "## and dictionary"
   ]
  },
  {
   "cell_type": "code",
   "execution_count": 50,
   "id": "fcc31ea2-c6ca-449b-99db-7b6f20eb8d9d",
   "metadata": {},
   "outputs": [
    {
     "data": {
      "text/plain": [
       "{'batch': ['DS', 'Web Dev', 'Java'],\n",
       " 'start_date': (28, 21, 20),\n",
       " 'mentor': {'Krish', 'Naveen', 'Telusco'}}"
      ]
     },
     "execution_count": 50,
     "metadata": {},
     "output_type": "execute_result"
    }
   ],
   "source": [
    "##Nested Dict\n",
    "d12 = {\"batch\":[\"DS\",\"Web Dev\",\"Java\"],\"start_date\":(28,21,20),\"mentor\":{\"Krish\",\"Telusco\",\"Naveen\"}}\n",
    "d12"
   ]
  },
  {
   "cell_type": "code",
   "execution_count": 51,
   "id": "3c953469-90ee-4b64-9b65-9061b5ee3bf2",
   "metadata": {},
   "outputs": [
    {
     "data": {
      "text/plain": [
       "{'batch': ['DS', 'Web Dev', 'Java'],\n",
       " 'start_date': (28, 21, 20),\n",
       " 'mentor': {'Krish', 'Naveen', 'Telusco'},\n",
       " 'timing': (8, 8, 8)}"
      ]
     },
     "execution_count": 51,
     "metadata": {},
     "output_type": "execute_result"
    }
   ],
   "source": [
    "d12[\"timing\"] = (8,8,8)\n",
    "d12"
   ]
  },
  {
   "cell_type": "code",
   "execution_count": 52,
   "id": "84bb5c0a-dba1-4321-aa58-fb4bb238fc2b",
   "metadata": {},
   "outputs": [
    {
     "data": {
      "text/plain": [
       "['DS', 'Web Dev', 'Java']"
      ]
     },
     "execution_count": 52,
     "metadata": {},
     "output_type": "execute_result"
    }
   ],
   "source": [
    "d12[\"batch\"]"
   ]
  },
  {
   "cell_type": "code",
   "execution_count": 53,
   "id": "adc68425-c0a2-46e1-912f-d27ceca817b6",
   "metadata": {},
   "outputs": [
    {
     "data": {
      "text/plain": [
       "{'batch': ['DS', 'Web Dev', 'Java'],\n",
       " 'start_date': (28, 21, 20),\n",
       " 'mentor': {'Krish', 'Naveen', 'Telusco'},\n",
       " 'timing': (8, 8, 8),\n",
       " 'name': 'Smarak'}"
      ]
     },
     "execution_count": 53,
     "metadata": {},
     "output_type": "execute_result"
    }
   ],
   "source": [
    "d12[\"name\"]=\"Smarak\"\n",
    "d12"
   ]
  },
  {
   "cell_type": "code",
   "execution_count": 54,
   "id": "6fecc423-73b5-4fba-a3de-9d45e66d1aae",
   "metadata": {},
   "outputs": [
    {
     "data": {
      "text/plain": [
       "'SMARAK'"
      ]
     },
     "execution_count": 54,
     "metadata": {},
     "output_type": "execute_result"
    }
   ],
   "source": [
    "d12[\"name\"].upper()"
   ]
  },
  {
   "cell_type": "code",
   "execution_count": 55,
   "id": "4ee10c6d-1746-4997-9b45-871fb88a4bf0",
   "metadata": {},
   "outputs": [
    {
     "data": {
      "text/plain": [
       "'Java'"
      ]
     },
     "execution_count": 55,
     "metadata": {},
     "output_type": "execute_result"
    }
   ],
   "source": [
    "d12[\"batch\"][2]"
   ]
  },
  {
   "cell_type": "code",
   "execution_count": 56,
   "id": "3277f112-df50-42a9-9618-bd07e3c435da",
   "metadata": {},
   "outputs": [
    {
     "data": {
      "text/plain": [
       "{'batch': ['DS', 'Web Dev', 'Java'],\n",
       " 'start_date': (28, 21, 20),\n",
       " 'mentor': {'Krish', 'Naveen', 'Telusco'},\n",
       " 'timing': (8, 8, 8),\n",
       " 'name': 'Smarak',\n",
       " 'ghj': 'jhbhj'}"
      ]
     },
     "execution_count": 56,
     "metadata": {},
     "output_type": "execute_result"
    }
   ],
   "source": [
    "d12[\"ghj\"]=\"jhbhj\"\n",
    "d12"
   ]
  },
  {
   "cell_type": "code",
   "execution_count": 57,
   "id": "f6042d6c-7a77-47e7-b0b2-d6052b123fdc",
   "metadata": {},
   "outputs": [],
   "source": [
    "del d12[\"ghj\"]"
   ]
  },
  {
   "cell_type": "code",
   "execution_count": 58,
   "id": "50014045-f278-4600-950c-8f748a954387",
   "metadata": {},
   "outputs": [
    {
     "data": {
      "text/plain": [
       "{'batch': ['DS', 'Web Dev', 'Java'],\n",
       " 'start_date': (28, 21, 20),\n",
       " 'mentor': {'Krish', 'Naveen', 'Telusco'},\n",
       " 'timing': (8, 8, 8),\n",
       " 'name': 'Smarak'}"
      ]
     },
     "execution_count": 58,
     "metadata": {},
     "output_type": "execute_result"
    }
   ],
   "source": [
    "d12"
   ]
  },
  {
   "cell_type": "code",
   "execution_count": 59,
   "id": "2d1bd572-61d2-49ea-9d02-8be83f3cfddc",
   "metadata": {},
   "outputs": [
    {
     "data": {
      "text/plain": [
       "5"
      ]
     },
     "execution_count": 59,
     "metadata": {},
     "output_type": "execute_result"
    }
   ],
   "source": [
    "len(d12)"
   ]
  },
  {
   "cell_type": "code",
   "execution_count": 61,
   "id": "f6bdf434-97a8-4d2b-b451-83667f7b97bc",
   "metadata": {},
   "outputs": [
    {
     "name": "stdout",
     "output_type": "stream",
     "text": [
      "dict_keys(['batch', 'start_date', 'mentor', 'timing', 'name'])\n"
     ]
    }
   ],
   "source": [
    "print(d12.keys())"
   ]
  },
  {
   "cell_type": "code",
   "execution_count": 63,
   "id": "289e13c5-d628-4eb2-a3a8-ad57a26f64a9",
   "metadata": {},
   "outputs": [
    {
     "data": {
      "text/plain": [
       "[['DS', 'Web Dev', 'Java'],\n",
       " (28, 21, 20),\n",
       " {'Krish', 'Naveen', 'Telusco'},\n",
       " (8, 8, 8),\n",
       " 'Smarak']"
      ]
     },
     "execution_count": 63,
     "metadata": {},
     "output_type": "execute_result"
    }
   ],
   "source": [
    "list(d12.values())"
   ]
  },
  {
   "cell_type": "code",
   "execution_count": 65,
   "id": "3d652c43-0958-4c57-bd53-c7f0bd5d0de7",
   "metadata": {},
   "outputs": [
    {
     "data": {
      "text/plain": [
       "[('batch', ['DS', 'Web Dev', 'Java']),\n",
       " ('start_date', (28, 21, 20)),\n",
       " ('mentor', {'Krish', 'Naveen', 'Telusco'}),\n",
       " ('timing', (8, 8, 8)),\n",
       " ('name', 'Smarak')]"
      ]
     },
     "execution_count": 65,
     "metadata": {},
     "output_type": "execute_result"
    }
   ],
   "source": [
    "list(d12.items())"
   ]
  },
  {
   "cell_type": "code",
   "execution_count": 67,
   "id": "9c2713b2-fd8d-4105-97bd-53f6cb782b69",
   "metadata": {},
   "outputs": [
    {
     "data": {
      "text/plain": [
       "{'batch': ['DS', 'Web Dev', 'Java'],\n",
       " 'start_date': (28, 21, 20),\n",
       " 'mentor': {'Krish', 'Naveen', 'Telusco'},\n",
       " 'timing': (8, 8, 8),\n",
       " 'name': 'Smarak'}"
      ]
     },
     "execution_count": 67,
     "metadata": {},
     "output_type": "execute_result"
    }
   ],
   "source": [
    "d13 = d12.copy()\n",
    "d13\n",
    "#deep copy"
   ]
  },
  {
   "cell_type": "code",
   "execution_count": 68,
   "id": "1979ef64-0cc9-4c4e-b720-1819208f9723",
   "metadata": {},
   "outputs": [],
   "source": [
    "d14 = d12\n",
    "#shallow copy"
   ]
  },
  {
   "cell_type": "code",
   "execution_count": 69,
   "id": "5113ba7e-847b-4463-8e43-dd94f7c233c2",
   "metadata": {},
   "outputs": [
    {
     "data": {
      "text/plain": [
       "{'batch': ['DS', 'Web Dev', 'Java'],\n",
       " 'start_date': (28, 21, 20),\n",
       " 'mentor': {'Krish', 'Naveen', 'Telusco'},\n",
       " 'timing': (8, 8, 8),\n",
       " 'name': 'rup'}"
      ]
     },
     "execution_count": 69,
     "metadata": {},
     "output_type": "execute_result"
    }
   ],
   "source": [
    "d14[\"name\"]=\"rup\"\n",
    "d12"
   ]
  },
  {
   "cell_type": "code",
   "execution_count": 70,
   "id": "393e05a5-22e7-4422-9462-57572e05a743",
   "metadata": {},
   "outputs": [
    {
     "data": {
      "text/plain": [
       "(8, 8, 8)"
      ]
     },
     "execution_count": 70,
     "metadata": {},
     "output_type": "execute_result"
    }
   ],
   "source": [
    "d12.pop(\"timing\")"
   ]
  },
  {
   "cell_type": "code",
   "execution_count": 71,
   "id": "c6cb1c49-3853-4398-b7b6-31c1cabdb883",
   "metadata": {},
   "outputs": [
    {
     "data": {
      "text/plain": [
       "{'batch': ['DS', 'Web Dev', 'Java'],\n",
       " 'start_date': (28, 21, 20),\n",
       " 'mentor': {'Krish', 'Naveen', 'Telusco'},\n",
       " 'name': 'rup'}"
      ]
     },
     "execution_count": 71,
     "metadata": {},
     "output_type": "execute_result"
    }
   ],
   "source": [
    "d12"
   ]
  },
  {
   "cell_type": "code",
   "execution_count": 86,
   "id": "d9487829-dc13-4cc3-be14-369a2f0efcdb",
   "metadata": {},
   "outputs": [
    {
     "data": {
      "text/plain": [
       "{'j': ('j', 'h', 'k'), 'g': ('j', 'h', 'k'), 'y': ('j', 'h', 'k')}"
      ]
     },
     "execution_count": 86,
     "metadata": {},
     "output_type": "execute_result"
    }
   ],
   "source": [
    "s12={}\n",
    "s12 = s12.fromkeys((\"jgy\") , ('j','h','k'))\n",
    "s12"
   ]
  },
  {
   "cell_type": "code",
   "execution_count": 87,
   "id": "e914da0f-5e3a-45f6-932c-55dbe8b8380b",
   "metadata": {},
   "outputs": [
    {
     "data": {
      "text/plain": [
       "({'batch': ['DS', 'Web Dev', 'Java'],\n",
       "  'start_date': (28, 21, 20),\n",
       "  'mentor': {'Krish', 'Naveen', 'Telusco'},\n",
       "  'name': 'rup'},\n",
       " {'j': ('j', 'h', 'k'), 'g': ('j', 'h', 'k'), 'y': ('j', 'h', 'k')})"
      ]
     },
     "execution_count": 87,
     "metadata": {},
     "output_type": "execute_result"
    }
   ],
   "source": [
    "(d12,s12)"
   ]
  },
  {
   "cell_type": "code",
   "execution_count": 88,
   "id": "84a85e2f-57c0-4f25-acf0-3bab99e11457",
   "metadata": {},
   "outputs": [],
   "source": [
    "d12.update(s12)"
   ]
  },
  {
   "cell_type": "code",
   "execution_count": 89,
   "id": "6882c183-4b33-4b64-8cac-5fac11066215",
   "metadata": {},
   "outputs": [
    {
     "data": {
      "text/plain": [
       "{'batch': ['DS', 'Web Dev', 'Java'],\n",
       " 'start_date': (28, 21, 20),\n",
       " 'mentor': {'Krish', 'Naveen', 'Telusco'},\n",
       " 'name': 'rup',\n",
       " 'j': ('j', 'h', 'k'),\n",
       " 'g': ('j', 'h', 'k'),\n",
       " 'y': ('j', 'h', 'k')}"
      ]
     },
     "execution_count": 89,
     "metadata": {},
     "output_type": "execute_result"
    }
   ],
   "source": [
    "d12"
   ]
  },
  {
   "cell_type": "code",
   "execution_count": 90,
   "id": "b9199dcc-9a3a-4c80-af19-29c42ffa5973",
   "metadata": {},
   "outputs": [
    {
     "data": {
      "text/plain": [
       "'rup'"
      ]
     },
     "execution_count": 90,
     "metadata": {},
     "output_type": "execute_result"
    }
   ],
   "source": [
    "d12.get(\"name\")"
   ]
  },
  {
   "cell_type": "markdown",
   "id": "9b737f59-0e42-4c84-bf65-3b27a3f92de6",
   "metadata": {},
   "source": [
    "Dictionary comprehension"
   ]
  },
  {
   "cell_type": "code",
   "execution_count": 92,
   "id": "c232cdab-5506-4322-ac28-99df89006695",
   "metadata": {},
   "outputs": [
    {
     "data": {
      "text/plain": [
       "{1: 1, 2: 4, 3: 9, 4: 16, 5: 25, 6: 36, 7: 49, 8: 64, 9: 81, 10: 100}"
      ]
     },
     "execution_count": 92,
     "metadata": {},
     "output_type": "execute_result"
    }
   ],
   "source": [
    "{i:i*i for i in range(1,11)}"
   ]
  },
  {
   "cell_type": "code",
   "execution_count": 95,
   "id": "af1a60bc-d7ea-42d3-a09a-e54dc5de7051",
   "metadata": {},
   "outputs": [
    {
     "data": {
      "text/plain": [
       "{1: 0.0,\n",
       " 2: 0.6931471805599453,\n",
       " 3: 1.0986122886681098,\n",
       " 4: 1.3862943611198906,\n",
       " 5: 1.6094379124341003,\n",
       " 6: 1.791759469228055,\n",
       " 7: 1.9459101490553132,\n",
       " 8: 2.0794415416798357,\n",
       " 9: 2.1972245773362196,\n",
       " 10: 2.302585092994046}"
      ]
     },
     "execution_count": 95,
     "metadata": {},
     "output_type": "execute_result"
    }
   ],
   "source": [
    "import math\n",
    "j={i:math.log(i) for i in range(1,11)}\n",
    "j"
   ]
  },
  {
   "cell_type": "code",
   "execution_count": 94,
   "id": "fe64447b-a1b8-4012-83ad-953a471432b6",
   "metadata": {},
   "outputs": [
    {
     "data": {
      "text/plain": [
       "True"
      ]
     },
     "execution_count": 94,
     "metadata": {},
     "output_type": "execute_result"
    }
   ],
   "source": [
    "\"name\" in d12\n"
   ]
  },
  {
   "cell_type": "code",
   "execution_count": 96,
   "id": "fe5758bb-f3a4-4f29-81b6-c2f6af24532e",
   "metadata": {},
   "outputs": [
    {
     "name": "stdout",
     "output_type": "stream",
     "text": [
      "2 0.6931471805599453\n",
      "4 1.3862943611198906\n",
      "6 1.791759469228055\n",
      "8 2.0794415416798357\n",
      "10 2.302585092994046\n"
     ]
    }
   ],
   "source": [
    "for i in j.keys():\n",
    "    if i%2==0:\n",
    "        print(i,j[i])"
   ]
  },
  {
   "cell_type": "code",
   "execution_count": null,
   "id": "102a4b85-2b80-4ae1-a928-b93f827dbe10",
   "metadata": {},
   "outputs": [],
   "source": []
  }
 ],
 "metadata": {
  "kernelspec": {
   "display_name": "Python 3 (ipykernel)",
   "language": "python",
   "name": "python3"
  },
  "language_info": {
   "codemirror_mode": {
    "name": "ipython",
    "version": 3
   },
   "file_extension": ".py",
   "mimetype": "text/x-python",
   "name": "python",
   "nbconvert_exporter": "python",
   "pygments_lexer": "ipython3",
   "version": "3.10.8"
  }
 },
 "nbformat": 4,
 "nbformat_minor": 5
}
