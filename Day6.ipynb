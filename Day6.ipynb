{
 "cells": [
  {
   "cell_type": "markdown",
   "id": "92925421-ef3a-4e55-aef1-ed22a815eb74",
   "metadata": {},
   "source": [
    "## Function"
   ]
  },
  {
   "cell_type": "code",
   "execution_count": 1,
   "id": "baaf4279-483a-4aff-bc7d-366c1727397e",
   "metadata": {},
   "outputs": [
    {
     "name": "stdout",
     "output_type": "stream",
     "text": [
      "Hello\n"
     ]
    }
   ],
   "source": [
    "def test():\n",
    "    print(\"Hello\")\n",
    "test()"
   ]
  },
  {
   "cell_type": "markdown",
   "id": "e90a956e-09d2-4bf7-9c89-1901872261ff",
   "metadata": {},
   "source": [
    "## Print() returns NoneType"
   ]
  },
  {
   "cell_type": "code",
   "execution_count": 3,
   "id": "1769180b-c482-43b8-ae52-04f605bca7a4",
   "metadata": {},
   "outputs": [
    {
     "data": {
      "text/plain": [
       "'Noice Smarak'"
      ]
     },
     "execution_count": 3,
     "metadata": {},
     "output_type": "execute_result"
    }
   ],
   "source": [
    "def test1():\n",
    "    return \"Noice \"\n",
    "test1()+\"Smarak\""
   ]
  },
  {
   "cell_type": "code",
   "execution_count": 4,
   "id": "82011c5e-7f9a-42b1-bc38-6639d3369e39",
   "metadata": {},
   "outputs": [
    {
     "data": {
      "text/plain": [
       "('gh', 1, True)"
      ]
     },
     "execution_count": 4,
     "metadata": {},
     "output_type": "execute_result"
    }
   ],
   "source": [
    "def test2():\n",
    "    return \"gh\",1,True\n",
    "test2()"
   ]
  },
  {
   "cell_type": "code",
   "execution_count": 5,
   "id": "ed19f9ad-84dd-4444-8a31-f6bb730f4eb9",
   "metadata": {},
   "outputs": [
    {
     "data": {
      "text/plain": [
       "(4, 6, True)"
      ]
     },
     "execution_count": 5,
     "metadata": {},
     "output_type": "execute_result"
    }
   ],
   "source": [
    "a=4,6,True\n",
    "a"
   ]
  },
  {
   "cell_type": "code",
   "execution_count": 6,
   "id": "81f7b9f8-eec6-4a49-8ae1-58498fcc3bd3",
   "metadata": {},
   "outputs": [],
   "source": [
    "a,b,c,d=5,8,\"vhj\",7"
   ]
  },
  {
   "cell_type": "code",
   "execution_count": 7,
   "id": "2ff3dea9-3882-40b4-a71c-5a3e639791f7",
   "metadata": {},
   "outputs": [
    {
     "data": {
      "text/plain": [
       "5"
      ]
     },
     "execution_count": 7,
     "metadata": {},
     "output_type": "execute_result"
    }
   ],
   "source": [
    "a"
   ]
  },
  {
   "cell_type": "code",
   "execution_count": 8,
   "id": "2290cdc6-0b85-495c-8c26-47c7dde4dcac",
   "metadata": {},
   "outputs": [
    {
     "data": {
      "text/plain": [
       "'vhj'"
      ]
     },
     "execution_count": 8,
     "metadata": {},
     "output_type": "execute_result"
    }
   ],
   "source": [
    "c"
   ]
  },
  {
   "cell_type": "code",
   "execution_count": 9,
   "id": "b2e177be-336d-4bdd-bd3f-58d45451c120",
   "metadata": {},
   "outputs": [
    {
     "data": {
      "text/plain": [
       "True"
      ]
     },
     "execution_count": 9,
     "metadata": {},
     "output_type": "execute_result"
    }
   ],
   "source": [
    "test2()[2]"
   ]
  },
  {
   "cell_type": "code",
   "execution_count": 10,
   "id": "e2465453-14ed-4810-bc0f-0c0b8cbffb2d",
   "metadata": {},
   "outputs": [
    {
     "data": {
      "text/plain": [
       "1"
      ]
     },
     "execution_count": 10,
     "metadata": {},
     "output_type": "execute_result"
    }
   ],
   "source": [
    "a,b,c = test2()\n",
    "b"
   ]
  },
  {
   "cell_type": "code",
   "execution_count": 12,
   "id": "cdd3f175-4238-4d0c-a04d-ec98afdf3fa8",
   "metadata": {},
   "outputs": [
    {
     "data": {
      "text/plain": [
       "'jhhnkj'"
      ]
     },
     "execution_count": 12,
     "metadata": {},
     "output_type": "execute_result"
    }
   ],
   "source": [
    "def test3(a,b):\n",
    "    return a+b\n",
    "test3(\"jhh\",\"nkj\")"
   ]
  },
  {
   "cell_type": "code",
   "execution_count": 13,
   "id": "537ae9ab-1544-4b03-8a56-a969675a8c30",
   "metadata": {},
   "outputs": [
    {
     "data": {
      "text/plain": [
       "[8, 7, 'xfd', (9, 0, 'vgf')]"
      ]
     },
     "execution_count": 13,
     "metadata": {},
     "output_type": "execute_result"
    }
   ],
   "source": [
    "test3([8,7,\"xfd\"],[(9,0,\"vgf\")])"
   ]
  },
  {
   "cell_type": "code",
   "execution_count": 14,
   "id": "fcba4c96-cb91-4684-8f18-519b5a61b706",
   "metadata": {},
   "outputs": [
    {
     "data": {
      "text/plain": [
       "'gorurup'"
      ]
     },
     "execution_count": 14,
     "metadata": {},
     "output_type": "execute_result"
    }
   ],
   "source": [
    "test3(b=\"rup\",a=\"goru\")"
   ]
  },
  {
   "cell_type": "code",
   "execution_count": 18,
   "id": "35fd4d04-ac38-4bc0-9488-bb831b2d05e5",
   "metadata": {},
   "outputs": [
    {
     "data": {
      "text/plain": [
       "[4, 5, 6, 7, 7, 8, 9, 0]"
      ]
     },
     "execution_count": 18,
     "metadata": {},
     "output_type": "execute_result"
    }
   ],
   "source": [
    "def test4(lst):\n",
    "    res = []\n",
    "    for i in lst:\n",
    "        if type(i)==int or type(i)==float:\n",
    "            res.append(i)\n",
    "        elif type(i)==list:\n",
    "            for j in i:\n",
    "                if type(j)==int or type(j)==float:\n",
    "                    res.append(j) \n",
    "    return res\n",
    "test4([4,5,6,7,\"gnh\",True,[7,8,9,0,\"njhj\"]])"
   ]
  },
  {
   "cell_type": "markdown",
   "id": "58a07a63-13e8-46bf-b15d-7c9b4ed942c9",
   "metadata": {},
   "source": [
    "## To take any number of arguments"
   ]
  },
  {
   "cell_type": "code",
   "execution_count": 22,
   "id": "64aa2942-fcae-40ba-b619-d518ade33309",
   "metadata": {},
   "outputs": [
    {
     "data": {
      "text/plain": [
       "(4, 6, 7, 8, 6, 6, 7, 9)"
      ]
     },
     "execution_count": 22,
     "metadata": {},
     "output_type": "execute_result"
    }
   ],
   "source": [
    "def test5(*a):\n",
    "    return a\n",
    "test5(4,6,7,8,6,6,7,9)"
   ]
  },
  {
   "cell_type": "code",
   "execution_count": 23,
   "id": "d11f4859-81c9-4f40-bdd1-31b5622d22a8",
   "metadata": {},
   "outputs": [
    {
     "data": {
      "text/plain": [
       "((6, 7, 8, 9), True)"
      ]
     },
     "execution_count": 23,
     "metadata": {},
     "output_type": "execute_result"
    }
   ],
   "source": [
    "def test6(*a,b):\n",
    "    return a,b\n",
    "test6(6,7,8,9,b=True)"
   ]
  },
  {
   "cell_type": "code",
   "execution_count": 25,
   "id": "defffb65-6112-4dc5-b987-1d6f513b9f87",
   "metadata": {},
   "outputs": [
    {
     "data": {
      "text/plain": [
       "[[7, 8, 9, 9], [2, 3, 4]]"
      ]
     },
     "execution_count": 25,
     "metadata": {},
     "output_type": "execute_result"
    }
   ],
   "source": [
    "def test6(*l):\n",
    "    lst=[]\n",
    "    for i in l:\n",
    "        if type(i)==list:\n",
    "            lst.append(i)\n",
    "    return lst\n",
    "test6([7,8,9,9],[2,3,4])"
   ]
  },
  {
   "cell_type": "code",
   "execution_count": 27,
   "id": "5f3357d3-3efe-49d3-a911-37d5a119e7c3",
   "metadata": {},
   "outputs": [
    {
     "data": {
      "text/plain": [
       "{'name': 6, 'a': 8}"
      ]
     },
     "execution_count": 27,
     "metadata": {},
     "output_type": "execute_result"
    }
   ],
   "source": [
    "#**args - n no. of arguments of dictionary type\n",
    "def test7(**d):\n",
    "    return d\n",
    "test7(name=6,a=8)"
   ]
  },
  {
   "cell_type": "code",
   "execution_count": 35,
   "id": "eb52769a-919e-4f6f-9385-7f64adbd488c",
   "metadata": {},
   "outputs": [
    {
     "data": {
      "text/plain": [
       "((2, 3, 4, 'gg'), {'a': 4, 'c': 'dsdfs', 'b': 1})"
      ]
     },
     "execution_count": 35,
     "metadata": {},
     "output_type": "execute_result"
    }
   ],
   "source": [
    "def test8(*a,**args):\n",
    "    return a,args\n",
    "test8(2,3,4,\"gg\",a=4 ,c=\"dsdfs\" ,b=1)"
   ]
  },
  {
   "cell_type": "markdown",
   "id": "6fe5c282-167d-4bbc-a25f-f66ccf8e1659",
   "metadata": {},
   "source": [
    "## Fibonacci"
   ]
  },
  {
   "cell_type": "code",
   "execution_count": 42,
   "id": "6d9871a1-de7d-4901-8142-8c708ee8fd81",
   "metadata": {},
   "outputs": [
    {
     "name": "stdout",
     "output_type": "stream",
     "text": [
      "0\n",
      "1\n",
      "1\n",
      "2\n",
      "3\n"
     ]
    }
   ],
   "source": [
    "## Generator function\n",
    "def fib(t):\n",
    "    a,b=0,1\n",
    "    for i in range(t):\n",
    "        yield a\n",
    "        a,b=b,a+b\n",
    "    return b\n",
    "for i in fib(5):\n",
    "    print(i)"
   ]
  },
  {
   "cell_type": "code",
   "execution_count": null,
   "id": "93b90508-031a-4234-8a70-2d0cb2e35434",
   "metadata": {},
   "outputs": [],
   "source": []
  }
 ],
 "metadata": {
  "kernelspec": {
   "display_name": "Python 3 (ipykernel)",
   "language": "python",
   "name": "python3"
  },
  "language_info": {
   "codemirror_mode": {
    "name": "ipython",
    "version": 3
   },
   "file_extension": ".py",
   "mimetype": "text/x-python",
   "name": "python",
   "nbconvert_exporter": "python",
   "pygments_lexer": "ipython3",
   "version": "3.10.8"
  }
 },
 "nbformat": 4,
 "nbformat_minor": 5
}
