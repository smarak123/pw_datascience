{
 "cells": [
  {
   "cell_type": "markdown",
   "id": "f55a7cee-d1eb-4809-bba5-bef10db4255e",
   "metadata": {},
   "source": [
    "# Polymorphism"
   ]
  },
  {
   "cell_type": "code",
   "execution_count": 8,
   "id": "ff4297ca-7c91-4a23-9777-e96f5b1a81e4",
   "metadata": {},
   "outputs": [],
   "source": [
    "class Test:\n",
    "    def display(self):\n",
    "        print(\"In Test\")"
   ]
  },
  {
   "cell_type": "code",
   "execution_count": 9,
   "id": "36069d1c-494e-4219-b841-df71163a78a7",
   "metadata": {},
   "outputs": [],
   "source": [
    "class Test1:\n",
    "    def display(self):\n",
    "        print(\"In Test1\")"
   ]
  },
  {
   "cell_type": "code",
   "execution_count": 10,
   "id": "2c195f58-89de-4231-ba51-b82c24b2ff9b",
   "metadata": {},
   "outputs": [],
   "source": [
    "obj=Test()\n",
    "obj1=Test1()"
   ]
  },
  {
   "cell_type": "code",
   "execution_count": 11,
   "id": "c6ae4e70-8c15-4f33-a1ec-cd215634f238",
   "metadata": {},
   "outputs": [],
   "source": [
    "obj2 = [obj,obj1]"
   ]
  },
  {
   "cell_type": "code",
   "execution_count": 12,
   "id": "55ea8dc1-f293-4f1b-b2f8-1f2e2cef1ad4",
   "metadata": {},
   "outputs": [
    {
     "name": "stdout",
     "output_type": "stream",
     "text": [
      "In Test\n",
      "In Test1\n"
     ]
    }
   ],
   "source": [
    "for i in obj2:\n",
    "    i.display()"
   ]
  },
  {
   "cell_type": "markdown",
   "id": "edd776a5-0bba-441f-8001-08cafa84f942",
   "metadata": {},
   "source": [
    "# Encapsulation"
   ]
  },
  {
   "cell_type": "code",
   "execution_count": 13,
   "id": "1ee6148b-5ef2-48d2-843e-f6f357e9ee32",
   "metadata": {},
   "outputs": [],
   "source": [
    "class Test3:\n",
    "    def __init__(self,a,b):\n",
    "        self.a = a\n",
    "        self.b = b\n",
    "obj = Test3(6,8)\n"
   ]
  },
  {
   "cell_type": "code",
   "execution_count": 14,
   "id": "ac647119-4cca-478a-9e8f-45312e43546e",
   "metadata": {},
   "outputs": [
    {
     "data": {
      "text/plain": [
       "6"
      ]
     },
     "execution_count": 14,
     "metadata": {},
     "output_type": "execute_result"
    }
   ],
   "source": [
    "obj.a"
   ]
  },
  {
   "cell_type": "code",
   "execution_count": 15,
   "id": "41e73ca7-3b06-4184-b988-75dafed96976",
   "metadata": {},
   "outputs": [
    {
     "data": {
      "text/plain": [
       "8"
      ]
     },
     "execution_count": 15,
     "metadata": {},
     "output_type": "execute_result"
    }
   ],
   "source": [
    "obj.a=8\n",
    "obj.a"
   ]
  },
  {
   "cell_type": "markdown",
   "id": "01c08463-1484-4465-80f6-77801fbf25dc",
   "metadata": {},
   "source": [
    "##  We have to prevent users from manipulating data"
   ]
  },
  {
   "cell_type": "code",
   "execution_count": 25,
   "id": "e5dec82a-0925-478f-a3e4-8a0ed0637e5e",
   "metadata": {},
   "outputs": [],
   "source": [
    "class car:\n",
    "    def __init__(self,speed,year,model):\n",
    "        self.__speed = speed\n",
    "        self.__year = year\n",
    "        self.__model = model\n",
    "    def set_speed(self,speed):\n",
    "        self.__speed = speed if speed>0 else 0\n",
    "    def get_speed(self):\n",
    "        return self.__speed"
   ]
  },
  {
   "cell_type": "code",
   "execution_count": 27,
   "id": "2e746e94-2eb8-44bf-bb1b-80a79d940443",
   "metadata": {},
   "outputs": [],
   "source": [
    "ob = car(90,2013,\"Hyundai\")\n"
   ]
  },
  {
   "cell_type": "code",
   "execution_count": 29,
   "id": "9a471299-ff3e-47bc-9a4a-85c3edc85418",
   "metadata": {},
   "outputs": [
    {
     "data": {
      "text/plain": [
       "90"
      ]
     },
     "execution_count": 29,
     "metadata": {},
     "output_type": "execute_result"
    }
   ],
   "source": [
    "ob._car__speed"
   ]
  },
  {
   "cell_type": "code",
   "execution_count": 30,
   "id": "50d04f9c-3b74-4f8d-9f1e-e32c5c5ac6bf",
   "metadata": {},
   "outputs": [
    {
     "data": {
      "text/plain": [
       "100"
      ]
     },
     "execution_count": 30,
     "metadata": {},
     "output_type": "execute_result"
    }
   ],
   "source": [
    "ob._car__speed=100\n",
    "ob._car__speed"
   ]
  },
  {
   "cell_type": "code",
   "execution_count": 31,
   "id": "b0c70b53-a2bb-4999-a105-eb7a6e079787",
   "metadata": {},
   "outputs": [],
   "source": [
    "ob.set_speed(77)"
   ]
  },
  {
   "cell_type": "code",
   "execution_count": 32,
   "id": "f581db8b-fea6-4346-a960-f4f94dc7fcb3",
   "metadata": {},
   "outputs": [
    {
     "data": {
      "text/plain": [
       "77"
      ]
     },
     "execution_count": 32,
     "metadata": {},
     "output_type": "execute_result"
    }
   ],
   "source": [
    "ob._car__speed"
   ]
  },
  {
   "cell_type": "code",
   "execution_count": 33,
   "id": "e792dc21-93eb-4266-8bba-7e52b358ab47",
   "metadata": {},
   "outputs": [
    {
     "data": {
      "text/plain": [
       "77"
      ]
     },
     "execution_count": 33,
     "metadata": {},
     "output_type": "execute_result"
    }
   ],
   "source": [
    "ob.get_speed()"
   ]
  },
  {
   "cell_type": "code",
   "execution_count": 34,
   "id": "ad92e915-2a8f-4234-80f9-10efdc193eef",
   "metadata": {},
   "outputs": [],
   "source": [
    "ob.set_speed(-54)"
   ]
  },
  {
   "cell_type": "code",
   "execution_count": 35,
   "id": "059962f6-f67b-40f5-8741-edf3a402fbe7",
   "metadata": {},
   "outputs": [
    {
     "data": {
      "text/plain": [
       "0"
      ]
     },
     "execution_count": 35,
     "metadata": {},
     "output_type": "execute_result"
    }
   ],
   "source": [
    "ob.get_speed()"
   ]
  },
  {
   "cell_type": "code",
   "execution_count": 37,
   "id": "6f84e083-8b9d-4df0-9f5d-837be8fc5bfd",
   "metadata": {},
   "outputs": [],
   "source": [
    "class account:\n",
    "    def __init__(self,balance):\n",
    "        self.__balance = balance\n",
    "    def deposit(self,amt):\n",
    "        self.__balance += amt\n",
    "    def withdraw(self,amt):\n",
    "        if self.__balance>=amt:\n",
    "            self.__balance-=amt\n",
    "            return True\n",
    "        else :\n",
    "            return False\n",
    "    def get_balance(self):\n",
    "        return self.__balance"
   ]
  },
  {
   "cell_type": "code",
   "execution_count": 38,
   "id": "1d0958aa-9bd9-44a1-9fb9-3edf6c4bfc60",
   "metadata": {},
   "outputs": [
    {
     "data": {
      "text/plain": [
       "28000"
      ]
     },
     "execution_count": 38,
     "metadata": {},
     "output_type": "execute_result"
    }
   ],
   "source": [
    "a = account(20000)\n",
    "a.deposit(8000)\n",
    "a.get_balance()"
   ]
  },
  {
   "cell_type": "code",
   "execution_count": 39,
   "id": "ed37444e-fcc0-4059-93ec-9382db50662b",
   "metadata": {},
   "outputs": [
    {
     "data": {
      "text/plain": [
       "False"
      ]
     },
     "execution_count": 39,
     "metadata": {},
     "output_type": "execute_result"
    }
   ],
   "source": [
    "a.withdraw(29000)"
   ]
  },
  {
   "cell_type": "code",
   "execution_count": 40,
   "id": "f9e76857-2c5b-42b8-b510-6dd5e6eb9e50",
   "metadata": {},
   "outputs": [
    {
     "data": {
      "text/plain": [
       "True"
      ]
     },
     "execution_count": 40,
     "metadata": {},
     "output_type": "execute_result"
    }
   ],
   "source": [
    "a.withdraw(28000)"
   ]
  },
  {
   "cell_type": "code",
   "execution_count": 41,
   "id": "98df91d1-ec4d-41e6-b7be-f97fc53717b0",
   "metadata": {},
   "outputs": [
    {
     "data": {
      "text/plain": [
       "0"
      ]
     },
     "execution_count": 41,
     "metadata": {},
     "output_type": "execute_result"
    }
   ],
   "source": [
    "a.get_balance()"
   ]
  },
  {
   "cell_type": "markdown",
   "id": "149e74a0-4a09-44ef-935d-87eb3039ba42",
   "metadata": {},
   "source": [
    "# Inheritance"
   ]
  },
  {
   "cell_type": "code",
   "execution_count": 43,
   "id": "36feae70-4d36-4b7b-9f56-6d2b5b22c266",
   "metadata": {},
   "outputs": [
    {
     "name": "stdout",
     "output_type": "stream",
     "text": [
      "Parent class\n"
     ]
    }
   ],
   "source": [
    "class parent:\n",
    "    def display(self):\n",
    "        print(\"Parent class\")\n",
    "class child(parent):\n",
    "    pass\n",
    "ob = child()\n",
    "ob.display()"
   ]
  },
  {
   "cell_type": "markdown",
   "id": "631bea92-e91e-4ded-9ced-31f46e536c18",
   "metadata": {},
   "source": [
    "## Multilevel inheritance"
   ]
  },
  {
   "cell_type": "code",
   "execution_count": 45,
   "id": "69163dca-66fb-4727-9a9d-a34e6cac7505",
   "metadata": {},
   "outputs": [],
   "source": [
    "class class1:\n",
    "    def f1(self):\n",
    "        print(\"class1\")\n",
    "class class2(class1):\n",
    "    def f2(self):\n",
    "        print(\"class2\")\n",
    "class class3(class2):\n",
    "    def f3(self):\n",
    "        print(\"class3\")"
   ]
  },
  {
   "cell_type": "code",
   "execution_count": 46,
   "id": "84c55ba5-3a4e-469e-840f-dab7c02c1b0f",
   "metadata": {},
   "outputs": [],
   "source": [
    "ob = class3()"
   ]
  },
  {
   "cell_type": "code",
   "execution_count": 47,
   "id": "86c61666-0058-40b0-ad69-db4e8c000b34",
   "metadata": {},
   "outputs": [
    {
     "name": "stdout",
     "output_type": "stream",
     "text": [
      "class1\n"
     ]
    }
   ],
   "source": [
    "ob.f1()"
   ]
  },
  {
   "cell_type": "code",
   "execution_count": 48,
   "id": "8b139de9-641a-4056-903c-dd2115294580",
   "metadata": {},
   "outputs": [
    {
     "name": "stdout",
     "output_type": "stream",
     "text": [
      "class2\n"
     ]
    }
   ],
   "source": [
    "ob.f2()"
   ]
  },
  {
   "cell_type": "code",
   "execution_count": 49,
   "id": "0838e772-f75d-4988-92bd-166d6a2814d4",
   "metadata": {},
   "outputs": [
    {
     "name": "stdout",
     "output_type": "stream",
     "text": [
      "class3\n"
     ]
    }
   ],
   "source": [
    "ob.f3()"
   ]
  },
  {
   "cell_type": "markdown",
   "id": "5d078eb3-21e9-4b1c-9052-64881855f03c",
   "metadata": {},
   "source": [
    "## Multiple Inheritance"
   ]
  },
  {
   "cell_type": "code",
   "execution_count": 50,
   "id": "8df0149d-557d-4c38-aa6f-fc6f1c4dce25",
   "metadata": {},
   "outputs": [],
   "source": [
    "class class1:\n",
    "    def c1(self):\n",
    "        print(\"class1\")\n",
    "class class2:\n",
    "    def c2(self):\n",
    "        print(\"class2\")\n",
    "class class3(class1,class2):\n",
    "    pass"
   ]
  },
  {
   "cell_type": "code",
   "execution_count": 51,
   "id": "ef90e02f-b860-4e34-b7f6-382fad92a7ec",
   "metadata": {},
   "outputs": [],
   "source": [
    "ob = class3()"
   ]
  },
  {
   "cell_type": "code",
   "execution_count": 53,
   "id": "18a6b5b1-85f6-467a-8bba-f14af483dafc",
   "metadata": {},
   "outputs": [
    {
     "name": "stdout",
     "output_type": "stream",
     "text": [
      "class1\n"
     ]
    }
   ],
   "source": [
    "ob.c1()"
   ]
  },
  {
   "cell_type": "code",
   "execution_count": 54,
   "id": "3f73d14c-3968-4ba3-b003-d27733e28b5d",
   "metadata": {},
   "outputs": [
    {
     "name": "stdout",
     "output_type": "stream",
     "text": [
      "class2\n"
     ]
    }
   ],
   "source": [
    "ob.c2()"
   ]
  },
  {
   "cell_type": "code",
   "execution_count": null,
   "id": "01d3eb59-59ef-418c-b658-18c7d37d61ac",
   "metadata": {},
   "outputs": [],
   "source": []
  }
 ],
 "metadata": {
  "kernelspec": {
   "display_name": "Python 3 (ipykernel)",
   "language": "python",
   "name": "python3"
  },
  "language_info": {
   "codemirror_mode": {
    "name": "ipython",
    "version": 3
   },
   "file_extension": ".py",
   "mimetype": "text/x-python",
   "name": "python",
   "nbconvert_exporter": "python",
   "pygments_lexer": "ipython3",
   "version": "3.10.8"
  }
 },
 "nbformat": 4,
 "nbformat_minor": 5
}
