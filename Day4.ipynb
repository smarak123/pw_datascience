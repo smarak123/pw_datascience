{
 "cells": [
  {
   "cell_type": "code",
   "execution_count": 5,
   "id": "f991dacd-e773-4041-b5b0-04a4145c4940",
   "metadata": {},
   "outputs": [
    {
     "name": "stdout",
     "output_type": "stream",
     "text": [
      "D a t a   S c i e n c e   M a s t e r s\n",
      "s r e t s a M   e c n e i c S   a t a D\n"
     ]
    }
   ],
   "source": [
    "name = \"Data Science Masters\"\n",
    "print(\" \".join(name))\n",
    "print(\" \".join(reversed(name)))"
   ]
  },
  {
   "cell_type": "code",
   "execution_count": 9,
   "id": "8e87bfe1-0db7-4f3e-a7e4-facf71f89fd8",
   "metadata": {},
   "outputs": [
    {
     "data": {
      "text/plain": [
       "'gvghjbh'"
      ]
     },
     "execution_count": 9,
     "metadata": {},
     "output_type": "execute_result"
    }
   ],
   "source": [
    "str = \" gvghjbh \"\n",
    "str.strip()"
   ]
  },
  {
   "cell_type": "code",
   "execution_count": 10,
   "id": "93df816f-3a4a-4be8-b4b2-39a782db312e",
   "metadata": {},
   "outputs": [
    {
     "data": {
      "text/plain": [
       "'gvghjbh '"
      ]
     },
     "execution_count": 10,
     "metadata": {},
     "output_type": "execute_result"
    }
   ],
   "source": [
    " str.lstrip()"
   ]
  },
  {
   "cell_type": "code",
   "execution_count": 11,
   "id": "7937e412-7471-4882-8627-f6876fba4c34",
   "metadata": {},
   "outputs": [
    {
     "data": {
      "text/plain": [
       "' gvghjbh'"
      ]
     },
     "execution_count": 11,
     "metadata": {},
     "output_type": "execute_result"
    }
   ],
   "source": [
    "str.rstrip()"
   ]
  },
  {
   "cell_type": "code",
   "execution_count": 12,
   "id": "416c0ba5-1dbd-4010-ad40-71bdbc3c8c31",
   "metadata": {},
   "outputs": [
    {
     "data": {
      "text/plain": [
       "'Greetings to our learners'"
      ]
     },
     "execution_count": 12,
     "metadata": {},
     "output_type": "execute_result"
    }
   ],
   "source": [
    "str_n = \"Greetings to learners\"\n",
    "str_n.replace(\"to\",\"to our\")"
   ]
  },
  {
   "cell_type": "code",
   "execution_count": 13,
   "id": "6f3a2442-f6aa-4acd-834c-8bacd09402e1",
   "metadata": {},
   "outputs": [
    {
     "data": {
      "text/plain": [
       "'hj \\n hj'"
      ]
     },
     "execution_count": 13,
     "metadata": {},
     "output_type": "execute_result"
    }
   ],
   "source": [
    "\"hj \\n hj\""
   ]
  },
  {
   "cell_type": "code",
   "execution_count": 17,
   "id": "183a957f-a73e-4bdb-9e8b-916318fcc690",
   "metadata": {},
   "outputs": [
    {
     "data": {
      "text/plain": [
       "'hjvn     dgbg'"
      ]
     },
     "execution_count": 17,
     "metadata": {},
     "output_type": "execute_result"
    }
   ],
   "source": [
    "\"hjvn\\t dgbg\".expandtabs()"
   ]
  },
  {
   "cell_type": "code",
   "execution_count": 18,
   "id": "05d99f2e-e919-48de-85a7-ad09a73eb980",
   "metadata": {},
   "outputs": [
    {
     "data": {
      "text/plain": [
       "'Welcome to Data Science Masters'"
      ]
     },
     "execution_count": 18,
     "metadata": {},
     "output_type": "execute_result"
    }
   ],
   "source": [
    "str1 =\"Welcome to Dat Scienc Masters\" \n",
    "str1.replace(\"Dat\",\"Data\").replace(\"Scienc\",\"Science\")"
   ]
  },
  {
   "cell_type": "code",
   "execution_count": 19,
   "id": "6ba26e32-38f2-4961-83a9-1df20ad3091d",
   "metadata": {},
   "outputs": [
    {
     "data": {
      "text/plain": [
       "False"
      ]
     },
     "execution_count": 19,
     "metadata": {},
     "output_type": "execute_result"
    }
   ],
   "source": [
    "str1.isupper()"
   ]
  },
  {
   "cell_type": "code",
   "execution_count": 23,
   "id": "c317aea8-7261-4786-ad69-8f2b6cad5a17",
   "metadata": {},
   "outputs": [
    {
     "data": {
      "text/plain": [
       "False"
      ]
     },
     "execution_count": 23,
     "metadata": {},
     "output_type": "execute_result"
    }
   ],
   "source": [
    "\" fg\".isspace()"
   ]
  },
  {
   "cell_type": "code",
   "execution_count": 24,
   "id": "8ff08877-de94-4ba3-b9b5-8c0d6f2bf35b",
   "metadata": {},
   "outputs": [
    {
     "data": {
      "text/plain": [
       "True"
      ]
     },
     "execution_count": 24,
     "metadata": {},
     "output_type": "execute_result"
    }
   ],
   "source": [
    "\" \".isspace()"
   ]
  },
  {
   "cell_type": "code",
   "execution_count": 25,
   "id": "ae4f20d7-9b5f-4dc7-aa39-a69918b60e8a",
   "metadata": {},
   "outputs": [
    {
     "data": {
      "text/plain": [
       "True"
      ]
     },
     "execution_count": 25,
     "metadata": {},
     "output_type": "execute_result"
    }
   ],
   "source": [
    "name = \"yfttyft\"\n",
    "name.endswith(\"t\")"
   ]
  },
  {
   "cell_type": "code",
   "execution_count": 26,
   "id": "9ba820b1-0280-4f55-9542-5536bd149ebd",
   "metadata": {},
   "outputs": [
    {
     "data": {
      "text/plain": [
       "True"
      ]
     },
     "execution_count": 26,
     "metadata": {},
     "output_type": "execute_result"
    }
   ],
   "source": [
    "name.startswith(\"y\")"
   ]
  },
  {
   "cell_type": "code",
   "execution_count": 27,
   "id": "62f2e73b-d9da-427f-bac1-a09a45257a78",
   "metadata": {},
   "outputs": [
    {
     "data": {
      "text/plain": [
       "True"
      ]
     },
     "execution_count": 27,
     "metadata": {},
     "output_type": "execute_result"
    }
   ],
   "source": [
    "n= \"hgvgh65544\"\n",
    "n.isalnum()"
   ]
  },
  {
   "cell_type": "code",
   "execution_count": 29,
   "id": "fc41b408-ccb1-45b0-9428-edb891776a21",
   "metadata": {},
   "outputs": [
    {
     "name": "stdout",
     "output_type": "stream",
     "text": [
      "10\n"
     ]
    }
   ],
   "source": [
    "c=0\n",
    "for i in n:\n",
    "   c=c+1\n",
    "print(c)"
   ]
  },
  {
   "cell_type": "code",
   "execution_count": 30,
   "id": "cd57b80f-b63f-4989-b5e0-64f860f4fab3",
   "metadata": {},
   "outputs": [
    {
     "name": "stdout",
     "output_type": "stream",
     "text": [
      "0 h\n",
      "1 g\n",
      "2 v\n",
      "3 g\n",
      "4 h\n",
      "5 6\n",
      "6 5\n",
      "7 5\n",
      "8 4\n",
      "9 4\n"
     ]
    }
   ],
   "source": [
    "for i in range(len(n)):\n",
    "    print(i,n[i])"
   ]
  },
  {
   "cell_type": "code",
   "execution_count": 40,
   "id": "3955f521-56c7-48b7-a36e-78cc7fccacab",
   "metadata": {},
   "outputs": [
    {
     "name": "stdout",
     "output_type": "stream",
     "text": [
      "9 4\n",
      "8 4\n",
      "7 5\n",
      "6 5\n",
      "5 6\n",
      "4 h\n",
      "3 g\n",
      "2 v\n",
      "1 g\n",
      "0 h\n"
     ]
    }
   ],
   "source": [
    "for i in range(len(n)-1,-1,-1):\n",
    "    print(i,n[i])"
   ]
  },
  {
   "cell_type": "code",
   "execution_count": 39,
   "id": "bed211b3-02e6-476e-b558-6cc22416ad78",
   "metadata": {},
   "outputs": [
    {
     "name": "stdout",
     "output_type": "stream",
     "text": [
      "yes\n",
      "yes\n",
      "yes\n"
     ]
    }
   ],
   "source": [
    "a = \"cjhbceao m\"\n",
    "v=\"aeiouAEIOU\"\n",
    "for i in a:\n",
    "    if i in v:\n",
    "        print(\"yes\")"
   ]
  },
  {
   "cell_type": "code",
   "execution_count": 41,
   "id": "6f933fb3-bf10-472a-a58c-b8884adbeaec",
   "metadata": {},
   "outputs": [
    {
     "data": {
      "text/plain": [
       "'m'"
      ]
     },
     "execution_count": 41,
     "metadata": {},
     "output_type": "execute_result"
    }
   ],
   "source": [
    "a[-1]\n"
   ]
  },
  {
   "cell_type": "code",
   "execution_count": 47,
   "id": "03f986c3-b511-4b9b-89be-bb3ea3ef448f",
   "metadata": {},
   "outputs": [],
   "source": [
    "lst = list([\"ycjg\",\"fhcg\",\"chggd\",\"zdaaq\",45])"
   ]
  },
  {
   "cell_type": "markdown",
   "id": "2837528f-bbf9-4a3b-880f-073e82ecafff",
   "metadata": {
    "tags": []
   },
   "source": [
    "## Lists are mutable\n"
   ]
  },
  {
   "cell_type": "code",
   "execution_count": 45,
   "id": "39aec654-9476-4812-84e8-c47422d24531",
   "metadata": {},
   "outputs": [
    {
     "data": {
      "text/plain": [
       "['c', 'j', 'h', 'b', 'c', 'e', 'a', 'o', ' ', 'm']"
      ]
     },
     "execution_count": 45,
     "metadata": {},
     "output_type": "execute_result"
    }
   ],
   "source": [
    "list(a)"
   ]
  },
  {
   "cell_type": "code",
   "execution_count": 46,
   "id": "6d50ee61-e379-4b98-a4e5-dae6d1d85e54",
   "metadata": {},
   "outputs": [
    {
     "data": {
      "text/plain": [
       "['fxbccx', 'dfsv', 'dgsdf']"
      ]
     },
     "execution_count": 46,
     "metadata": {},
     "output_type": "execute_result"
    }
   ],
   "source": [
    "list(\"fxbccx dfsv dgsdf\".split(\" \"))"
   ]
  },
  {
   "cell_type": "markdown",
   "id": "8e2572dc-1521-4ec0-a62f-b72d137d8e10",
   "metadata": {},
   "source": [
    "## split returns a list"
   ]
  },
  {
   "cell_type": "markdown",
   "id": "bb464409-fb02-4623-b08c-e9c4480a980f",
   "metadata": {},
   "source": [
    "## Lists are ordered collection of objects"
   ]
  },
  {
   "cell_type": "code",
   "execution_count": 48,
   "id": "4aa14465-2f6d-4357-a28e-23947c271be3",
   "metadata": {},
   "outputs": [
    {
     "data": {
      "text/plain": [
       "['fhcg', 'chggd', 'zdaaq', 45]"
      ]
     },
     "execution_count": 48,
     "metadata": {},
     "output_type": "execute_result"
    }
   ],
   "source": [
    "lst[1:]"
   ]
  },
  {
   "cell_type": "code",
   "execution_count": 49,
   "id": "1eb2e45a-aeeb-4f13-82b2-294a8a30a633",
   "metadata": {},
   "outputs": [],
   "source": [
    "lst[2] =\"cghcv xsd\""
   ]
  },
  {
   "cell_type": "code",
   "execution_count": 50,
   "id": "d9e1e737-5964-465f-ad9e-07da17e26a0e",
   "metadata": {},
   "outputs": [
    {
     "data": {
      "text/plain": [
       "['ycjg', 'fhcg', 'cghcv xsd', 'zdaaq', 45]"
      ]
     },
     "execution_count": 50,
     "metadata": {},
     "output_type": "execute_result"
    }
   ],
   "source": [
    "lst"
   ]
  },
  {
   "cell_type": "code",
   "execution_count": 51,
   "id": "45f6297d-e6d3-4c5e-bc11-9b8e5f4b6c91",
   "metadata": {},
   "outputs": [
    {
     "data": {
      "text/plain": [
       "[45, 'cghcv xsd', 'ycjg']"
      ]
     },
     "execution_count": 51,
     "metadata": {},
     "output_type": "execute_result"
    }
   ],
   "source": [
    "lst[::-2]"
   ]
  },
  {
   "cell_type": "code",
   "execution_count": 58,
   "id": "8090ab07-8814-43db-8ed2-c2dfb8234450",
   "metadata": {},
   "outputs": [
    {
     "data": {
      "text/plain": [
       "['ycjg', 'fhcg', 'cghcv xsd', 'zdaaq', 45, 'waww', 89, [76, 'dfsfd']]"
      ]
     },
     "execution_count": 58,
     "metadata": {},
     "output_type": "execute_result"
    }
   ],
   "source": [
    "lst1= lst + [\"waww\",89] +[[76,\"dfsfd\"]]\n",
    "lst1"
   ]
  },
  {
   "cell_type": "code",
   "execution_count": 59,
   "id": "d0cdda24-306c-415d-8178-307d500cfeb3",
   "metadata": {},
   "outputs": [
    {
     "data": {
      "text/plain": [
       "76"
      ]
     },
     "execution_count": 59,
     "metadata": {},
     "output_type": "execute_result"
    }
   ],
   "source": [
    "lst1[7][0]"
   ]
  },
  {
   "cell_type": "code",
   "execution_count": 60,
   "id": "5095d524-28ac-4c29-8667-152c09bbe1e9",
   "metadata": {},
   "outputs": [
    {
     "data": {
      "text/plain": [
       "['ycjg',\n",
       " 'fhcg',\n",
       " 'cghcv xsd',\n",
       " 'zdaaq',\n",
       " 45,\n",
       " 'waww',\n",
       " 89,\n",
       " [76, 'dfsfd'],\n",
       " 'ycjg',\n",
       " 'fhcg',\n",
       " 'cghcv xsd',\n",
       " 'zdaaq',\n",
       " 45,\n",
       " 'waww',\n",
       " 89,\n",
       " [76, 'dfsfd']]"
      ]
     },
     "execution_count": 60,
     "metadata": {},
     "output_type": "execute_result"
    }
   ],
   "source": [
    "lst1*2"
   ]
  },
  {
   "cell_type": "code",
   "execution_count": 61,
   "id": "26b0b815-83c3-424d-b240-c1ec5a5244ac",
   "metadata": {},
   "outputs": [
    {
     "name": "stdout",
     "output_type": "stream",
     "text": [
      "True\n"
     ]
    }
   ],
   "source": [
    "if 'f' in 'chf':\n",
    "    print(True)"
   ]
  },
  {
   "cell_type": "code",
   "execution_count": 62,
   "id": "d0548ec3-1d62-4397-8082-5cf47785919a",
   "metadata": {},
   "outputs": [
    {
     "name": "stdout",
     "output_type": "stream",
     "text": [
      "Zebra\n"
     ]
    }
   ],
   "source": [
    "animal = [\"Zebra\",\"Rabbit\",\"Monkey\"]\n",
    "no = [4,8,9,7]\n",
    "print(max(animal))"
   ]
  },
  {
   "cell_type": "code",
   "execution_count": 63,
   "id": "e88a10ba-3496-4bdb-8d57-cc361d9e52f2",
   "metadata": {},
   "outputs": [
    {
     "data": {
      "text/plain": [
       "[4, 8, 9, 7, 13]"
      ]
     },
     "execution_count": 63,
     "metadata": {},
     "output_type": "execute_result"
    }
   ],
   "source": [
    "# append - in place operation\n",
    "no.append(13)\n",
    "no"
   ]
  },
  {
   "cell_type": "code",
   "execution_count": 64,
   "id": "d0ff3ec6-3911-4169-b912-b899d3716adf",
   "metadata": {},
   "outputs": [
    {
     "data": {
      "text/plain": [
       "[4, 8, 9, 7]"
      ]
     },
     "execution_count": 64,
     "metadata": {},
     "output_type": "execute_result"
    }
   ],
   "source": [
    "# pop - in place\n",
    "no.pop()\n",
    "no"
   ]
  },
  {
   "cell_type": "code",
   "execution_count": 65,
   "id": "4f381743-6d12-4040-a46c-91122f7613ff",
   "metadata": {},
   "outputs": [
    {
     "data": {
      "text/plain": [
       "8"
      ]
     },
     "execution_count": 65,
     "metadata": {},
     "output_type": "execute_result"
    }
   ],
   "source": [
    "no.pop(1)"
   ]
  },
  {
   "cell_type": "code",
   "execution_count": 66,
   "id": "6fc88e4a-8fc7-4ceb-a17c-b8598b8c893e",
   "metadata": {},
   "outputs": [
    {
     "data": {
      "text/plain": [
       "[4, 9, 7]"
      ]
     },
     "execution_count": 66,
     "metadata": {},
     "output_type": "execute_result"
    }
   ],
   "source": [
    "no"
   ]
  },
  {
   "cell_type": "code",
   "execution_count": 67,
   "id": "2efc6c4a-90f5-4703-8d63-e823321ace6b",
   "metadata": {},
   "outputs": [
    {
     "data": {
      "text/plain": [
       "[7, 9, 4]"
      ]
     },
     "execution_count": 67,
     "metadata": {},
     "output_type": "execute_result"
    }
   ],
   "source": [
    "no.reverse()\n",
    "no"
   ]
  },
  {
   "cell_type": "code",
   "execution_count": 68,
   "id": "1c37860b-602f-423a-bee0-050986271f1b",
   "metadata": {},
   "outputs": [],
   "source": [
    "no.sort()"
   ]
  },
  {
   "cell_type": "code",
   "execution_count": 69,
   "id": "4e45292b-f2fd-4de7-a7bd-06b9f3fe7fd0",
   "metadata": {},
   "outputs": [
    {
     "data": {
      "text/plain": [
       "[4, 7, 9]"
      ]
     },
     "execution_count": 69,
     "metadata": {},
     "output_type": "execute_result"
    }
   ],
   "source": [
    "no\n"
   ]
  },
  {
   "cell_type": "markdown",
   "id": "66a5a9d9-b2ca-4820-94c0-9eb337339576",
   "metadata": {},
   "source": [
    "## Nested list"
   ]
  },
  {
   "cell_type": "code",
   "execution_count": 70,
   "id": "bd937e8b-eb47-4d3f-96a3-04204e1e62c9",
   "metadata": {},
   "outputs": [],
   "source": [
    "no.extend([2,3,0])"
   ]
  },
  {
   "cell_type": "code",
   "execution_count": 71,
   "id": "32b59f5e-9ca3-4896-9465-5615a4c00a53",
   "metadata": {},
   "outputs": [
    {
     "data": {
      "text/plain": [
       "[4, 7, 9, 2, 3, 0]"
      ]
     },
     "execution_count": 71,
     "metadata": {},
     "output_type": "execute_result"
    }
   ],
   "source": [
    "no"
   ]
  },
  {
   "cell_type": "code",
   "execution_count": 72,
   "id": "bfd2faa7-069b-471e-82a2-2f2bc40e128c",
   "metadata": {},
   "outputs": [
    {
     "data": {
      "text/plain": [
       "[3, 4]"
      ]
     },
     "execution_count": 72,
     "metadata": {},
     "output_type": "execute_result"
    }
   ],
   "source": [
    "m = [[5,6,8],[1,9,0],[2,3,4]]\n",
    "m[2][1:]"
   ]
  },
  {
   "cell_type": "markdown",
   "id": "860264ea-0828-451d-a7a3-3876670f96ec",
   "metadata": {},
   "source": [
    "## List comprehension\n"
   ]
  },
  {
   "cell_type": "code",
   "execution_count": 76,
   "id": "e024cf14-23eb-4272-9455-0acb59466cc9",
   "metadata": {},
   "outputs": [
    {
     "data": {
      "text/plain": [
       "[0, '', 2, '', 4, '', 6, '', 8, '', 10, '', 12, '', 14, '', 16, '', 18, '']"
      ]
     },
     "execution_count": 76,
     "metadata": {},
     "output_type": "execute_result"
    }
   ],
   "source": [
    "[i if i%2==0 else \"\" for i in range(20)]"
   ]
  },
  {
   "cell_type": "code",
   "execution_count": 77,
   "id": "4218adf5-be7b-4ec1-8602-5f8d87a26e16",
   "metadata": {},
   "outputs": [
    {
     "name": "stdout",
     "output_type": "stream",
     "text": [
      "20 16\n"
     ]
    }
   ],
   "source": [
    "p=[1,2,3,4,5,6,7,8]\n",
    "ev=0\n",
    "od=0\n",
    "for i in p:\n",
    "    if i%2==0:\n",
    "        ev=ev+i\n",
    "    else:\n",
    "        od=od+i\n",
    "print(ev,od)"
   ]
  },
  {
   "cell_type": "code",
   "execution_count": 79,
   "id": "061819f3-b3a8-4b31-8d46-a9de9332247a",
   "metadata": {},
   "outputs": [
    {
     "data": {
      "text/plain": [
       "16"
      ]
     },
     "execution_count": 79,
     "metadata": {},
     "output_type": "execute_result"
    }
   ],
   "source": [
    "od_sum = sum([i for i in p if i%2!=0])\n",
    "od_sum"
   ]
  },
  {
   "cell_type": "code",
   "execution_count": 81,
   "id": "a5228cf7-4264-4280-b33a-88c9ab813cb3",
   "metadata": {},
   "outputs": [
    {
     "data": {
      "text/plain": [
       "[0, 2, 4, 6, 8, 10, 12, 14, 16, 18]"
      ]
     },
     "execution_count": 81,
     "metadata": {},
     "output_type": "execute_result"
    }
   ],
   "source": [
    "[i  for i in range(20) if i%2==0]"
   ]
  },
  {
   "cell_type": "code",
   "execution_count": 82,
   "id": "42a7a3ab-3f40-445a-95b8-fad78c36966c",
   "metadata": {},
   "outputs": [
    {
     "data": {
      "text/plain": [
       "[1, 4, 9, 16, 25, 36, 49, 64]"
      ]
     },
     "execution_count": 82,
     "metadata": {},
     "output_type": "execute_result"
    }
   ],
   "source": [
    "sq = [i*i for i in p]\n",
    "sq"
   ]
  },
  {
   "cell_type": "code",
   "execution_count": 83,
   "id": "1f2ab96b-039a-42fc-82da-a6031a063659",
   "metadata": {},
   "outputs": [
    {
     "data": {
      "text/plain": [
       "[5, 6, 8, 1, 9, 0, 2, 3, 4]"
      ]
     },
     "execution_count": 83,
     "metadata": {},
     "output_type": "execute_result"
    }
   ],
   "source": [
    "[n for i in m for n in i]"
   ]
  },
  {
   "cell_type": "code",
   "execution_count": null,
   "id": "ad9fab75-94b1-4571-b0bd-ebac7ea63522",
   "metadata": {},
   "outputs": [],
   "source": []
  }
 ],
 "metadata": {
  "kernelspec": {
   "display_name": "Python 3 (ipykernel)",
   "language": "python",
   "name": "python3"
  },
  "language_info": {
   "codemirror_mode": {
    "name": "ipython",
    "version": 3
   },
   "file_extension": ".py",
   "mimetype": "text/x-python",
   "name": "python",
   "nbconvert_exporter": "python",
   "pygments_lexer": "ipython3",
   "version": "3.10.8"
  }
 },
 "nbformat": 4,
 "nbformat_minor": 5
}
