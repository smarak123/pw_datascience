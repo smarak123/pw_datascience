{
 "cells": [
  {
   "cell_type": "markdown",
   "id": "49a8000d-a2dc-434a-a917-4d89409e22d7",
   "metadata": {},
   "source": [
    "# OOPS"
   ]
  },
  {
   "cell_type": "code",
   "execution_count": 3,
   "id": "6b6b4471-f4e1-4fd1-915f-adc381adfc08",
   "metadata": {},
   "outputs": [
    {
     "data": {
      "text/plain": [
       "__main__.test"
      ]
     },
     "execution_count": 3,
     "metadata": {},
     "output_type": "execute_result"
    }
   ],
   "source": [
    "class test:\n",
    "    pass\n",
    "a = test()\n",
    "type(a)"
   ]
  },
  {
   "cell_type": "code",
   "execution_count": 11,
   "id": "fb05212c-04ff-4462-a734-0c0d7f6f28b0",
   "metadata": {},
   "outputs": [
    {
     "name": "stdout",
     "output_type": "stream",
     "text": [
      "Welcomehu\n"
     ]
    },
    {
     "data": {
      "text/plain": [
       "8"
      ]
     },
     "execution_count": 11,
     "metadata": {},
     "output_type": "execute_result"
    }
   ],
   "source": [
    "class pwskills:\n",
    "    b=8\n",
    "    def message(self,s):\n",
    "        print(\"Welcome\"+s)\n",
    "a = pwskills()\n",
    "a.message(\"hu\")\n",
    "a.b\n"
   ]
  },
  {
   "cell_type": "code",
   "execution_count": 14,
   "id": "d100f054-3f11-4a53-8226-80fcf51e49a4",
   "metadata": {},
   "outputs": [
    {
     "data": {
      "text/plain": [
       "9456"
      ]
     },
     "execution_count": 14,
     "metadata": {},
     "output_type": "execute_result"
    }
   ],
   "source": [
    "class Student:\n",
    "    \n",
    "    def __init__(self,ph,email,name):\n",
    "        self.phone = ph\n",
    "        self.email = email\n",
    "        self.name = name\n",
    "    def display(self):\n",
    "        return self.name,self.phone,self.email\n",
    "a = Student(9456,\"rgr@gmail.com\",\"dtrthf\")\n",
    "a.phone"
   ]
  },
  {
   "cell_type": "code",
   "execution_count": 15,
   "id": "dd09517c-9dd9-4dee-b9a6-bab16713a020",
   "metadata": {},
   "outputs": [
    {
     "data": {
      "text/plain": [
       "('dtrthf', 9456, 'rgr@gmail.com')"
      ]
     },
     "execution_count": 15,
     "metadata": {},
     "output_type": "execute_result"
    }
   ],
   "source": [
    "a.display()"
   ]
  },
  {
   "cell_type": "code",
   "execution_count": null,
   "id": "6a82ff05-820c-40dd-8654-301bff990381",
   "metadata": {},
   "outputs": [],
   "source": []
  }
 ],
 "metadata": {
  "kernelspec": {
   "display_name": "Python 3 (ipykernel)",
   "language": "python",
   "name": "python3"
  },
  "language_info": {
   "codemirror_mode": {
    "name": "ipython",
    "version": 3
   },
   "file_extension": ".py",
   "mimetype": "text/x-python",
   "name": "python",
   "nbconvert_exporter": "python",
   "pygments_lexer": "ipython3",
   "version": "3.10.8"
  }
 },
 "nbformat": 4,
 "nbformat_minor": 5
}
