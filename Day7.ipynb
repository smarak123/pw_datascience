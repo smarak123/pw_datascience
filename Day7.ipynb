{
 "cells": [
  {
   "cell_type": "markdown",
   "id": "bbd678f0-4425-4126-8c5e-d7c1b74559d9",
   "metadata": {},
   "source": [
    "## Lambda function"
   ]
  },
  {
   "cell_type": "code",
   "execution_count": 1,
   "id": "7524f02b-7f85-4854-b351-cf48df468790",
   "metadata": {},
   "outputs": [
    {
     "data": {
      "text/plain": [
       "243"
      ]
     },
     "execution_count": 1,
     "metadata": {},
     "output_type": "execute_result"
    }
   ],
   "source": [
    "def power(a,b):\n",
    "    return a**b\n",
    "power(3,5)"
   ]
  },
  {
   "cell_type": "code",
   "execution_count": 2,
   "id": "d8db88bf-3334-4257-8934-113f1320b0b7",
   "metadata": {},
   "outputs": [
    {
     "data": {
      "text/plain": [
       "10"
      ]
     },
     "execution_count": 2,
     "metadata": {},
     "output_type": "execute_result"
    }
   ],
   "source": [
    "p = lambda a,b : a*b\n",
    "p(5,2)"
   ]
  },
  {
   "cell_type": "code",
   "execution_count": 3,
   "id": "764f593b-e00e-409c-bdaf-15992f609e20",
   "metadata": {},
   "outputs": [
    {
     "data": {
      "text/plain": [
       "9"
      ]
     },
     "execution_count": 3,
     "metadata": {},
     "output_type": "execute_result"
    }
   ],
   "source": [
    "max_two = lambda a,b : a if a>b else b\n",
    "max_two(7,9)"
   ]
  },
  {
   "cell_type": "markdown",
   "id": "0bbf5899-da07-45f1-b269-c736ed8c3925",
   "metadata": {},
   "source": [
    "## Map"
   ]
  },
  {
   "cell_type": "code",
   "execution_count": 6,
   "id": "4d0465d7-33a8-4e9b-b530-23365b6a3d4e",
   "metadata": {},
   "outputs": [
    {
     "data": {
      "text/plain": [
       "[1, 4, 9, 16]"
      ]
     },
     "execution_count": 6,
     "metadata": {},
     "output_type": "execute_result"
    }
   ],
   "source": [
    "def sq(x):\n",
    "    return x**2\n",
    "list(map(sq,[1,2,3,4]))"
   ]
  },
  {
   "cell_type": "code",
   "execution_count": 10,
   "id": "8bf32869-830f-4255-b514-9516174f7238",
   "metadata": {},
   "outputs": [
    {
     "data": {
      "text/plain": [
       "['6', '8', '9']"
      ]
     },
     "execution_count": 10,
     "metadata": {},
     "output_type": "execute_result"
    }
   ],
   "source": [
    "list(map(lambda a :str(a),[6,8,9]))"
   ]
  },
  {
   "cell_type": "code",
   "execution_count": 8,
   "id": "fa99ebf6-fb7d-4c18-a864-e432f24170c5",
   "metadata": {},
   "outputs": [
    {
     "data": {
      "text/plain": [
       "[7, 9, 7, 10]"
      ]
     },
     "execution_count": 8,
     "metadata": {},
     "output_type": "execute_result"
    }
   ],
   "source": [
    "l1 = [5,6,6,7]\n",
    "l2 = [2,3,1,3]\n",
    "list(map(lambda a,b:a+b,l1,l2))"
   ]
  },
  {
   "cell_type": "code",
   "execution_count": 15,
   "id": "360c4828-9cb1-46dc-a3d1-cd80bc6b2235",
   "metadata": {},
   "outputs": [
    {
     "data": {
      "text/plain": [
       "['P', 'W', 'S', 'K', 'I', 'L', 'L', 'S']"
      ]
     },
     "execution_count": 15,
     "metadata": {},
     "output_type": "execute_result"
    }
   ],
   "source": [
    "f = lambda str : str.upper()\n",
    "list(map(f,\"pwskills\"))"
   ]
  },
  {
   "cell_type": "markdown",
   "id": "75523e87-092f-4c09-b101-eeb332b15805",
   "metadata": {},
   "source": [
    "## Reduce"
   ]
  },
  {
   "cell_type": "code",
   "execution_count": 16,
   "id": "88c24d2a-3b4b-4ce3-96c1-cf82a9ac5e8c",
   "metadata": {},
   "outputs": [],
   "source": [
    "from functools import  reduce"
   ]
  },
  {
   "cell_type": "code",
   "execution_count": 17,
   "id": "f2bd0063-4f6e-4566-877a-58b18951d103",
   "metadata": {},
   "outputs": [
    {
     "data": {
      "text/plain": [
       "15"
      ]
     },
     "execution_count": 17,
     "metadata": {},
     "output_type": "execute_result"
    }
   ],
   "source": [
    "l = [1,2,3,4,5]\n",
    "reduce(lambda x,y : x+y,l)"
   ]
  },
  {
   "cell_type": "code",
   "execution_count": 18,
   "id": "60fd3a39-22cf-4f4e-9156-06f95b72a21a",
   "metadata": {},
   "outputs": [
    {
     "data": {
      "text/plain": [
       "1"
      ]
     },
     "execution_count": 18,
     "metadata": {},
     "output_type": "execute_result"
    }
   ],
   "source": [
    "reduce(lambda x,y : x+y,[1])"
   ]
  },
  {
   "cell_type": "code",
   "execution_count": 20,
   "id": "9f819dfb-223b-4e8f-8b63-c900c91305ca",
   "metadata": {},
   "outputs": [
    {
     "data": {
      "text/plain": [
       "5"
      ]
     },
     "execution_count": 20,
     "metadata": {},
     "output_type": "execute_result"
    }
   ],
   "source": [
    "reduce(lambda x,y : x if x>y else y,l)"
   ]
  },
  {
   "cell_type": "markdown",
   "id": "1c8b64c3-0afe-4551-809f-3e87adf8a5a5",
   "metadata": {},
   "source": [
    "## Filter"
   ]
  },
  {
   "cell_type": "code",
   "execution_count": 23,
   "id": "bbd784b3-ecf9-4c74-9996-96e62f128987",
   "metadata": {},
   "outputs": [
    {
     "data": {
      "text/plain": [
       "[2, 4]"
      ]
     },
     "execution_count": 23,
     "metadata": {},
     "output_type": "execute_result"
    }
   ],
   "source": [
    "list(filter(lambda x:x%2==0,l))"
   ]
  },
  {
   "cell_type": "code",
   "execution_count": 24,
   "id": "cc0591f0-daa9-431f-900e-dc1ae1e3e373",
   "metadata": {},
   "outputs": [
    {
     "data": {
      "text/plain": [
       "[-9, -7]"
      ]
     },
     "execution_count": 24,
     "metadata": {},
     "output_type": "execute_result"
    }
   ],
   "source": [
    "list(filter(lambda a:a<0,[5,-9,0,8,7,-7]))"
   ]
  },
  {
   "cell_type": "code",
   "execution_count": 27,
   "id": "a30c8816-c22d-4a7b-9c3b-548724b8ada2",
   "metadata": {},
   "outputs": [
    {
     "data": {
      "text/plain": [
       "['hcngh', 'gfhg']"
      ]
     },
     "execution_count": 27,
     "metadata": {},
     "output_type": "execute_result"
    }
   ],
   "source": [
    "l=[\"hcngh\",\"gfhg\",\"rtdhtg\",\"tgdthnu\",\"yggytt\"]\n",
    "list(filter(lambda a:len(a)<6,l))"
   ]
  },
  {
   "cell_type": "code",
   "execution_count": null,
   "id": "1ba3c81f-5353-4d68-bf79-b0ad17607892",
   "metadata": {},
   "outputs": [],
   "source": []
  }
 ],
 "metadata": {
  "kernelspec": {
   "display_name": "Python 3 (ipykernel)",
   "language": "python",
   "name": "python3"
  },
  "language_info": {
   "codemirror_mode": {
    "name": "ipython",
    "version": 3
   },
   "file_extension": ".py",
   "mimetype": "text/x-python",
   "name": "python",
   "nbconvert_exporter": "python",
   "pygments_lexer": "ipython3",
   "version": "3.10.8"
  }
 },
 "nbformat": 4,
 "nbformat_minor": 5
}
