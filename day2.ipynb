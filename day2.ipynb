{
 "cells": [
  {
   "cell_type": "code",
   "execution_count": 2,
   "id": "61182eeb-41db-406f-a4ba-21e0ad533ea7",
   "metadata": {},
   "outputs": [
    {
     "name": "stdout",
     "output_type": "stream",
     "text": [
      "Eligible\n"
     ]
    }
   ],
   "source": [
    "age=18\n",
    "if age>=18:\n",
    "    print(\"Eligible\")"
   ]
  },
  {
   "cell_type": "code",
   "execution_count": 3,
   "id": "307c823e-a04c-48c7-a164-81ee10b33554",
   "metadata": {},
   "outputs": [
    {
     "name": "stdin",
     "output_type": "stream",
     "text": [
      " ghi\n"
     ]
    },
    {
     "data": {
      "text/plain": [
       "'ghi'"
      ]
     },
     "execution_count": 3,
     "metadata": {},
     "output_type": "execute_result"
    }
   ],
   "source": [
    "input()"
   ]
  },
  {
   "cell_type": "code",
   "execution_count": 4,
   "id": "9d486684-4c7b-47d5-8e48-bc4875763171",
   "metadata": {},
   "outputs": [
    {
     "name": "stdin",
     "output_type": "stream",
     "text": [
      "Enter name Smarak\n"
     ]
    },
    {
     "name": "stdout",
     "output_type": "stream",
     "text": [
      "Smarak\n"
     ]
    }
   ],
   "source": [
    "name = input(\"Enter name\")\n",
    "print(name)"
   ]
  },
  {
   "cell_type": "code",
   "execution_count": 6,
   "id": "ba87ae84-0207-4328-931d-e8e28866123e",
   "metadata": {},
   "outputs": [
    {
     "name": "stdin",
     "output_type": "stream",
     "text": [
      "Enter age 66\n"
     ]
    },
    {
     "name": "stdout",
     "output_type": "stream",
     "text": [
      "66 <class 'int'>\n"
     ]
    }
   ],
   "source": [
    "age=int(input(\"Enter age\"))\n",
    "print(age,type(age))\n"
   ]
  },
  {
   "cell_type": "code",
   "execution_count": 7,
   "id": "c6b4e449-1428-4e3c-a5bc-db1b9c1a899b",
   "metadata": {},
   "outputs": [
    {
     "name": "stdin",
     "output_type": "stream",
     "text": [
      "Enter age 34\n"
     ]
    },
    {
     "name": "stdout",
     "output_type": "stream",
     "text": [
      "Young blood\n"
     ]
    }
   ],
   "source": [
    "age =int(input(\"Enter age\"))\n",
    "if age>=18 and age<=45:\n",
    "    print(\"Young blood\")\n",
    "    "
   ]
  },
  {
   "cell_type": "code",
   "execution_count": 14,
   "id": "6e59529c-c00f-4acc-bbae-e6c7f1dc5417",
   "metadata": {},
   "outputs": [
    {
     "name": "stdin",
     "output_type": "stream",
     "text": [
      "Enter amount 560\n"
     ]
    },
    {
     "name": "stdout",
     "output_type": "stream",
     "text": [
      "392\n"
     ]
    }
   ],
   "source": [
    "price=float(input(\"Enter amount\"))\n",
    "if price>1000:\n",
    "    price = 0.8*price;\n",
    "else:\n",
    "    price = 0.7*price;\n",
    "print(int(price))"
   ]
  },
  {
   "cell_type": "code",
   "execution_count": 20,
   "id": "5efb7e5b-99c0-4495-98f2-ffb78de3eeab",
   "metadata": {},
   "outputs": [
    {
     "name": "stdin",
     "output_type": "stream",
     "text": [
      "Enter amt 1000\n"
     ]
    },
    {
     "name": "stdout",
     "output_type": "stream",
     "text": [
      "discounted price is 600\n"
     ]
    }
   ],
   "source": [
    "price = float(input(\"Enter amt\"))\n",
    "if price>=4000:\n",
    "    print(\"discounted price is {}\".format(int(price*0.8)))\n",
    "elif price>=3000 and price<4000:\n",
    "    print(f\"discounted price is {int(price*0.7)}\")\n",
    "else:\n",
    "    print(\"discounted price is {amt}\".format(amt = int(price*0.6)))"
   ]
  },
  {
   "cell_type": "code",
   "execution_count": null,
   "id": "7aa2da03-0a33-4f2c-9664-1169d7e231b3",
   "metadata": {},
   "outputs": [],
   "source": []
  }
 ],
 "metadata": {
  "kernelspec": {
   "display_name": "Python 3 (ipykernel)",
   "language": "python",
   "name": "python3"
  },
  "language_info": {
   "codemirror_mode": {
    "name": "ipython",
    "version": 3
   },
   "file_extension": ".py",
   "mimetype": "text/x-python",
   "name": "python",
   "nbconvert_exporter": "python",
   "pygments_lexer": "ipython3",
   "version": "3.10.8"
  }
 },
 "nbformat": 4,
 "nbformat_minor": 5
}
