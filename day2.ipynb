{
 "cells": [
  {
   "cell_type": "code",
   "execution_count": 2,
   "id": "61182eeb-41db-406f-a4ba-21e0ad533ea7",
   "metadata": {},
   "outputs": [
    {
     "name": "stdout",
     "output_type": "stream",
     "text": [
      "Eligible\n"
     ]
    }
   ],
   "source": [
    "age=18\n",
    "if age>=18:\n",
    "    print(\"Eligible\")"
   ]
  },
  {
   "cell_type": "code",
   "execution_count": 3,
   "id": "307c823e-a04c-48c7-a164-81ee10b33554",
   "metadata": {},
   "outputs": [
    {
     "name": "stdin",
     "output_type": "stream",
     "text": [
      " ghi\n"
     ]
    },
    {
     "data": {
      "text/plain": [
       "'ghi'"
      ]
     },
     "execution_count": 3,
     "metadata": {},
     "output_type": "execute_result"
    }
   ],
   "source": [
    "input()"
   ]
  },
  {
   "cell_type": "code",
   "execution_count": 4,
   "id": "9d486684-4c7b-47d5-8e48-bc4875763171",
   "metadata": {},
   "outputs": [
    {
     "name": "stdin",
     "output_type": "stream",
     "text": [
      "Enter name Smarak\n"
     ]
    },
    {
     "name": "stdout",
     "output_type": "stream",
     "text": [
      "Smarak\n"
     ]
    }
   ],
   "source": [
    "name = input(\"Enter name\")\n",
    "print(name)"
   ]
  },
  {
   "cell_type": "code",
   "execution_count": 6,
   "id": "ba87ae84-0207-4328-931d-e8e28866123e",
   "metadata": {},
   "outputs": [
    {
     "name": "stdin",
     "output_type": "stream",
     "text": [
      "Enter age 66\n"
     ]
    },
    {
     "name": "stdout",
     "output_type": "stream",
     "text": [
      "66 <class 'int'>\n"
     ]
    }
   ],
   "source": [
    "age=int(input(\"Enter age\"))\n",
    "print(age,type(age))\n"
   ]
  },
  {
   "cell_type": "code",
   "execution_count": 7,
   "id": "c6b4e449-1428-4e3c-a5bc-db1b9c1a899b",
   "metadata": {},
   "outputs": [
    {
     "name": "stdin",
     "output_type": "stream",
     "text": [
      "Enter age 34\n"
     ]
    },
    {
     "name": "stdout",
     "output_type": "stream",
     "text": [
      "Young blood\n"
     ]
    }
   ],
   "source": [
    "age =int(input(\"Enter age\"))\n",
    "if age>=18 and age<=45:\n",
    "    print(\"Young blood\")\n",
    "    "
   ]
  },
  {
   "cell_type": "code",
   "execution_count": 14,
   "id": "6e59529c-c00f-4acc-bbae-e6c7f1dc5417",
   "metadata": {},
   "outputs": [
    {
     "name": "stdin",
     "output_type": "stream",
     "text": [
      "Enter amount 560\n"
     ]
    },
    {
     "name": "stdout",
     "output_type": "stream",
     "text": [
      "392\n"
     ]
    }
   ],
   "source": [
    "price=float(input(\"Enter amount\"))\n",
    "if price>1000:\n",
    "    price = 0.8*price;\n",
    "else:\n",
    "    price = 0.7*price;\n",
    "print(int(price))"
   ]
  },
  {
   "cell_type": "code",
   "execution_count": 20,
   "id": "5efb7e5b-99c0-4495-98f2-ffb78de3eeab",
   "metadata": {},
   "outputs": [
    {
     "name": "stdin",
     "output_type": "stream",
     "text": [
      "Enter amt 1000\n"
     ]
    },
    {
     "name": "stdout",
     "output_type": "stream",
     "text": [
      "discounted price is 600\n"
     ]
    }
   ],
   "source": [
    "price = float(input(\"Enter amt\"))\n",
    "if price>=4000:\n",
    "    print(\"discounted price is {}\".format(int(price*0.8)))\n",
    "elif price>=3000 and price<4000:\n",
    "    print(f\"discounted price is {int(price*0.7)}\")\n",
    "else:\n",
    "    print(\"discounted price is {amt}\".format(amt = int(price*0.6)))"
   ]
  },
  {
   "cell_type": "code",
   "execution_count": 23,
   "id": "7aa2da03-0a33-4f2c-9664-1169d7e231b3",
   "metadata": {},
   "outputs": [
    {
     "name": "stdout",
     "output_type": "stream",
     "text": [
      "55\n",
      "56\n",
      "57\n",
      "58\n",
      "59\n",
      "60\n",
      "Time for retirement\n"
     ]
    }
   ],
   "source": [
    "# while loop\n",
    "age = 55\n",
    "while age<=60:\n",
    "    print(age)\n",
    "    age=age+1\n",
    "else:\n",
    "    print(\"Time for retirement\")"
   ]
  },
  {
   "cell_type": "code",
   "execution_count": 25,
   "id": "5039dd3e-5784-464d-8e64-71f93ee77de6",
   "metadata": {},
   "outputs": [
    {
     "name": "stdout",
     "output_type": "stream",
     "text": [
      "Banana\n",
      "<class 'list'>\n",
      "1\n",
      "2\n",
      "3\n",
      "4\n",
      "Apple\n",
      "Banana\n",
      "Orange\n",
      "True\n"
     ]
    }
   ],
   "source": [
    "# For loop\n",
    "lst = [1,2,3,4,\"Apple\",\"Banana\",\"Orange\",True]\n",
    "print(lst[5])\n",
    "print(type(lst))\n",
    "for x in lst:\n",
    "    print(x)"
   ]
  },
  {
   "cell_type": "code",
   "execution_count": 28,
   "id": "4ae3035d-f318-48ec-8c7b-5f807f7e446e",
   "metadata": {},
   "outputs": [
    {
     "name": "stdout",
     "output_type": "stream",
     "text": [
      "g\n",
      "m\n",
      "a\n",
      "n\n",
      "g\n",
      "o\n"
     ]
    }
   ],
   "source": [
    "fruit=\"mango\"\n",
    "print(fruit[3])\n",
    "for x in fruit:\n",
    "    print(x)"
   ]
  },
  {
   "cell_type": "code",
   "execution_count": 29,
   "id": "f12c04bb-65e7-4a94-839b-428629a49dc8",
   "metadata": {},
   "outputs": [],
   "source": [
    "# Nested loop\n"
   ]
  },
  {
   "cell_type": "code",
   "execution_count": 31,
   "id": "33d5db64-2981-44c6-b972-6892959048ab",
   "metadata": {},
   "outputs": [
    {
     "name": "stdout",
     "output_type": "stream",
     "text": [
      "1\n",
      "2\n",
      "3\n",
      "4\n"
     ]
    }
   ],
   "source": [
    "for i in range(1,5):\n",
    "    print(i)"
   ]
  },
  {
   "cell_type": "code",
   "execution_count": 33,
   "id": "77361333-772c-457a-b2ac-4d95f606cfca",
   "metadata": {},
   "outputs": [
    {
     "name": "stdout",
     "output_type": "stream",
     "text": [
      "1\n",
      "3\n",
      "5\n"
     ]
    }
   ],
   "source": [
    "for i in range(1,7,2):\n",
    "    print(i)\n",
    "    "
   ]
  },
  {
   "cell_type": "code",
   "execution_count": 35,
   "id": "aed55604-01bf-4518-b0cf-6678b57e3e69",
   "metadata": {},
   "outputs": [
    {
     "name": "stdout",
     "output_type": "stream",
     "text": [
      "*\n",
      "**\n",
      "***\n",
      "****\n",
      "*****\n",
      "******\n",
      "*******\n"
     ]
    }
   ],
   "source": [
    "n=7\n",
    "for i in range(0,n):\n",
    "    for j in range(0,i+1):\n",
    "        print(\"*\",end=\"\")\n",
    "    print()"
   ]
  },
  {
   "cell_type": "code",
   "execution_count": null,
   "id": "49c41a54-9a76-4953-bb9d-14d632da29d0",
   "metadata": {},
   "outputs": [],
   "source": [
    "# break continue and pass"
   ]
  }
 ],
 "metadata": {
  "kernelspec": {
   "display_name": "Python 3 (ipykernel)",
   "language": "python",
   "name": "python3"
  },
  "language_info": {
   "codemirror_mode": {
    "name": "ipython",
    "version": 3
   },
   "file_extension": ".py",
   "mimetype": "text/x-python",
   "name": "python",
   "nbconvert_exporter": "python",
   "pygments_lexer": "ipython3",
   "version": "3.10.8"
  }
 },
 "nbformat": 4,
 "nbformat_minor": 5
}
